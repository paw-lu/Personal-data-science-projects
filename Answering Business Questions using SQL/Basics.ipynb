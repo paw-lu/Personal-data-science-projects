{
 "cells": [
  {
   "cell_type": "code",
   "execution_count": 2,
   "metadata": {
    "collapsed": true
   },
   "outputs": [],
   "source": [
    "import sqlite3\n",
    "import pandas as pd\n",
    "import matplotlib.pyplot as plt\n",
    "%matplotlib inline"
   ]
  },
  {
   "cell_type": "code",
   "execution_count": 3,
   "metadata": {
    "collapsed": true
   },
   "outputs": [],
   "source": [
    "def run_query(q):\n",
    "    with sqlite3.connect('chinook.db') as conn:\n",
    "        return pd.read_sql(q, conn)"
   ]
  },
  {
   "cell_type": "code",
   "execution_count": 4,
   "metadata": {
    "collapsed": true
   },
   "outputs": [],
   "source": [
    "def run_command(c):\n",
    "    with sqlite.connect('chinhook.db') as conn:\n",
    "        conn.isolation_level = None\n",
    "        conn.execute(c)"
   ]
  },
  {
   "cell_type": "code",
   "execution_count": 5,
   "metadata": {
    "collapsed": true
   },
   "outputs": [],
   "source": [
    "def show_tables():\n",
    "    q = \"\"\"\n",
    "        SELECT\n",
    "            name,\n",
    "            type\n",
    "        FROM sqlite_master\n",
    "        WHERE type in ('table', 'view')\n",
    "        \"\"\"\n",
    "    return run_query(q)"
   ]
  },
  {
   "cell_type": "code",
   "execution_count": 6,
   "metadata": {
    "collapsed": false
   },
   "outputs": [
    {
     "data": {
      "text/html": [
       "<div>\n",
       "<table border=\"1\" class=\"dataframe\">\n",
       "  <thead>\n",
       "    <tr style=\"text-align: right;\">\n",
       "      <th></th>\n",
       "      <th>name</th>\n",
       "      <th>type</th>\n",
       "    </tr>\n",
       "  </thead>\n",
       "  <tbody>\n",
       "    <tr>\n",
       "      <th>0</th>\n",
       "      <td>album</td>\n",
       "      <td>table</td>\n",
       "    </tr>\n",
       "    <tr>\n",
       "      <th>1</th>\n",
       "      <td>artist</td>\n",
       "      <td>table</td>\n",
       "    </tr>\n",
       "    <tr>\n",
       "      <th>2</th>\n",
       "      <td>customer</td>\n",
       "      <td>table</td>\n",
       "    </tr>\n",
       "    <tr>\n",
       "      <th>3</th>\n",
       "      <td>employee</td>\n",
       "      <td>table</td>\n",
       "    </tr>\n",
       "    <tr>\n",
       "      <th>4</th>\n",
       "      <td>genre</td>\n",
       "      <td>table</td>\n",
       "    </tr>\n",
       "    <tr>\n",
       "      <th>5</th>\n",
       "      <td>invoice</td>\n",
       "      <td>table</td>\n",
       "    </tr>\n",
       "    <tr>\n",
       "      <th>6</th>\n",
       "      <td>invoice_line</td>\n",
       "      <td>table</td>\n",
       "    </tr>\n",
       "    <tr>\n",
       "      <th>7</th>\n",
       "      <td>media_type</td>\n",
       "      <td>table</td>\n",
       "    </tr>\n",
       "    <tr>\n",
       "      <th>8</th>\n",
       "      <td>playlist</td>\n",
       "      <td>table</td>\n",
       "    </tr>\n",
       "    <tr>\n",
       "      <th>9</th>\n",
       "      <td>playlist_track</td>\n",
       "      <td>table</td>\n",
       "    </tr>\n",
       "    <tr>\n",
       "      <th>10</th>\n",
       "      <td>track</td>\n",
       "      <td>table</td>\n",
       "    </tr>\n",
       "  </tbody>\n",
       "</table>\n",
       "</div>"
      ],
      "text/plain": [
       "              name   type\n",
       "0            album  table\n",
       "1           artist  table\n",
       "2         customer  table\n",
       "3         employee  table\n",
       "4            genre  table\n",
       "5          invoice  table\n",
       "6     invoice_line  table\n",
       "7       media_type  table\n",
       "8         playlist  table\n",
       "9   playlist_track  table\n",
       "10           track  table"
      ]
     },
     "execution_count": 6,
     "metadata": {},
     "output_type": "execute_result"
    }
   ],
   "source": [
    "show_tables()"
   ]
  },
  {
   "cell_type": "markdown",
   "metadata": {},
   "source": [
    "# Find which genres sell best in USA\n",
    "\n",
    "- Write query that returns each genre, number of track sold, and percentages in USA\n",
    "\n",
    "- Plot the data"
   ]
  },
  {
   "cell_type": "code",
   "execution_count": 7,
   "metadata": {
    "collapsed": false
   },
   "outputs": [
    {
     "data": {
      "text/html": [
       "<div>\n",
       "<table border=\"1\" class=\"dataframe\">\n",
       "  <thead>\n",
       "    <tr style=\"text-align: right;\">\n",
       "      <th></th>\n",
       "      <th>name</th>\n",
       "      <th>genre_sales</th>\n",
       "      <th>percentage</th>\n",
       "    </tr>\n",
       "  </thead>\n",
       "  <tbody>\n",
       "    <tr>\n",
       "      <th>0</th>\n",
       "      <td>Rock</td>\n",
       "      <td>561</td>\n",
       "      <td>0.533777</td>\n",
       "    </tr>\n",
       "    <tr>\n",
       "      <th>1</th>\n",
       "      <td>Alternative &amp; Punk</td>\n",
       "      <td>130</td>\n",
       "      <td>0.123692</td>\n",
       "    </tr>\n",
       "    <tr>\n",
       "      <th>2</th>\n",
       "      <td>Metal</td>\n",
       "      <td>124</td>\n",
       "      <td>0.117983</td>\n",
       "    </tr>\n",
       "    <tr>\n",
       "      <th>3</th>\n",
       "      <td>R&amp;B/Soul</td>\n",
       "      <td>53</td>\n",
       "      <td>0.050428</td>\n",
       "    </tr>\n",
       "    <tr>\n",
       "      <th>4</th>\n",
       "      <td>Blues</td>\n",
       "      <td>36</td>\n",
       "      <td>0.034253</td>\n",
       "    </tr>\n",
       "    <tr>\n",
       "      <th>5</th>\n",
       "      <td>Alternative</td>\n",
       "      <td>35</td>\n",
       "      <td>0.033302</td>\n",
       "    </tr>\n",
       "    <tr>\n",
       "      <th>6</th>\n",
       "      <td>Latin</td>\n",
       "      <td>22</td>\n",
       "      <td>0.020932</td>\n",
       "    </tr>\n",
       "    <tr>\n",
       "      <th>7</th>\n",
       "      <td>Pop</td>\n",
       "      <td>22</td>\n",
       "      <td>0.020932</td>\n",
       "    </tr>\n",
       "    <tr>\n",
       "      <th>8</th>\n",
       "      <td>Hip Hop/Rap</td>\n",
       "      <td>20</td>\n",
       "      <td>0.019029</td>\n",
       "    </tr>\n",
       "    <tr>\n",
       "      <th>9</th>\n",
       "      <td>Jazz</td>\n",
       "      <td>14</td>\n",
       "      <td>0.013321</td>\n",
       "    </tr>\n",
       "    <tr>\n",
       "      <th>10</th>\n",
       "      <td>Easy Listening</td>\n",
       "      <td>13</td>\n",
       "      <td>0.012369</td>\n",
       "    </tr>\n",
       "    <tr>\n",
       "      <th>11</th>\n",
       "      <td>Reggae</td>\n",
       "      <td>6</td>\n",
       "      <td>0.005709</td>\n",
       "    </tr>\n",
       "    <tr>\n",
       "      <th>12</th>\n",
       "      <td>Electronica/Dance</td>\n",
       "      <td>5</td>\n",
       "      <td>0.004757</td>\n",
       "    </tr>\n",
       "    <tr>\n",
       "      <th>13</th>\n",
       "      <td>Classical</td>\n",
       "      <td>4</td>\n",
       "      <td>0.003806</td>\n",
       "    </tr>\n",
       "    <tr>\n",
       "      <th>14</th>\n",
       "      <td>Heavy Metal</td>\n",
       "      <td>3</td>\n",
       "      <td>0.002854</td>\n",
       "    </tr>\n",
       "    <tr>\n",
       "      <th>15</th>\n",
       "      <td>Soundtrack</td>\n",
       "      <td>2</td>\n",
       "      <td>0.001903</td>\n",
       "    </tr>\n",
       "    <tr>\n",
       "      <th>16</th>\n",
       "      <td>TV Shows</td>\n",
       "      <td>1</td>\n",
       "      <td>0.000951</td>\n",
       "    </tr>\n",
       "  </tbody>\n",
       "</table>\n",
       "</div>"
      ],
      "text/plain": [
       "                  name  genre_sales  percentage\n",
       "0                 Rock          561    0.533777\n",
       "1   Alternative & Punk          130    0.123692\n",
       "2                Metal          124    0.117983\n",
       "3             R&B/Soul           53    0.050428\n",
       "4                Blues           36    0.034253\n",
       "5          Alternative           35    0.033302\n",
       "6                Latin           22    0.020932\n",
       "7                  Pop           22    0.020932\n",
       "8          Hip Hop/Rap           20    0.019029\n",
       "9                 Jazz           14    0.013321\n",
       "10      Easy Listening           13    0.012369\n",
       "11              Reggae            6    0.005709\n",
       "12   Electronica/Dance            5    0.004757\n",
       "13           Classical            4    0.003806\n",
       "14         Heavy Metal            3    0.002854\n",
       "15          Soundtrack            2    0.001903\n",
       "16            TV Shows            1    0.000951"
      ]
     },
     "execution_count": 7,
     "metadata": {},
     "output_type": "execute_result"
    }
   ],
   "source": [
    "q1 = \"\"\"\n",
    "    WITH total_usa_sold AS\n",
    "        (\n",
    "        SELECT \n",
    "            il.invoice_line_id\n",
    "        FROM invoice_line il\n",
    "        INNER JOIN invoice i ON i.invoice_id = il.invoice_id\n",
    "        INNER JOIN customer c ON c.customer_id = i.customer_id\n",
    "        WHERE c.country = \"USA\"\n",
    "        )\n",
    "    SELECT \n",
    "        g.name,\n",
    "        COUNT(il.invoice_line_id) genre_sales,\n",
    "        CAST(COUNT(il.invoice_line_id) AS FLOAT) / (SELECT COUNT(invoice_line_id) FROM total_usa_sold) percentage\n",
    "    FROM invoice_line il\n",
    "    INNER JOIN invoice i ON i.invoice_id = il.invoice_id\n",
    "    INNER JOIN customer c ON c.customer_id = i.customer_id\n",
    "    INNER JOIN track t ON t.track_id = il.track_id\n",
    "    INNER JOIN genre g ON g.genre_id = t.genre_id\n",
    "    WHERE c.country = \"USA\"\n",
    "    GROUP BY 1\n",
    "    ORDER BY genre_sales DESC\n",
    "    \"\"\"\n",
    "run_query(q1)"
   ]
  },
  {
   "cell_type": "code",
   "execution_count": 8,
   "metadata": {
    "collapsed": false,
    "scrolled": true
   },
   "outputs": [
    {
     "data": {
      "text/plain": [
       "<matplotlib.axes._subplots.AxesSubplot at 0x7fc4f811f208>"
      ]
     },
     "execution_count": 8,
     "metadata": {},
     "output_type": "execute_result"
    },
    {
     "data": {
      "image/png": "[encoded data removed]",
      "text/plain": [
       "<matplotlib.figure.Figure at 0x7fc4f811f3c8>"
      ]
     },
     "metadata": {},
     "output_type": "display_data"
    }
   ],
   "source": [
    "genre_USA = run_query(q1)\n",
    "genre_USA.set_index(\"name\", inplace=True, drop=True)\n",
    "\n",
    "genre_USA['genre_sales'].plot.bar()"
   ]
  },
  {
   "cell_type": "code",
   "execution_count": 9,
   "metadata": {
    "collapsed": false
   },
   "outputs": [
    {
     "data": {
      "text/html": [
       "<div>\n",
       "<table border=\"1\" class=\"dataframe\">\n",
       "  <thead>\n",
       "    <tr style=\"text-align: right;\">\n",
       "      <th></th>\n",
       "      <th>name</th>\n",
       "      <th>hire_date</th>\n",
       "      <th>total_sales</th>\n",
       "    </tr>\n",
       "  </thead>\n",
       "  <tbody>\n",
       "    <tr>\n",
       "      <th>0</th>\n",
       "      <td>Peacock, Jane</td>\n",
       "      <td>2017-04-01 00:00:00</td>\n",
       "      <td>1731.51</td>\n",
       "    </tr>\n",
       "    <tr>\n",
       "      <th>1</th>\n",
       "      <td>Park, Margaret</td>\n",
       "      <td>2017-05-03 00:00:00</td>\n",
       "      <td>1584.00</td>\n",
       "    </tr>\n",
       "    <tr>\n",
       "      <th>2</th>\n",
       "      <td>Johnson, Steve</td>\n",
       "      <td>2017-10-17 00:00:00</td>\n",
       "      <td>1393.92</td>\n",
       "    </tr>\n",
       "  </tbody>\n",
       "</table>\n",
       "</div>"
      ],
      "text/plain": [
       "             name            hire_date  total_sales\n",
       "0   Peacock, Jane  2017-04-01 00:00:00      1731.51\n",
       "1  Park, Margaret  2017-05-03 00:00:00      1584.00\n",
       "2  Johnson, Steve  2017-10-17 00:00:00      1393.92"
      ]
     },
     "execution_count": 9,
     "metadata": {},
     "output_type": "execute_result"
    }
   ],
   "source": [
    "employee_sales_q = \"\"\"\n",
    "                    SELECT\n",
    "                        e.last_name || ', ' || e.first_name name,\n",
    "                        e.hire_date,\n",
    "                        SUM(i.total) total_sales\n",
    "                    FROM employee e\n",
    "                    INNER JOIN customer c ON c.support_rep_id = e.employee_id\n",
    "                    INNER JOIN invoice i ON i.customer_id = c.customer_id\n",
    "                    GROUP BY 1\n",
    "                    ORDER BY total_sales DESC\n",
    "                    \"\"\"\n",
    "run_query(employee_sales_q)"
   ]
  },
  {
   "cell_type": "code",
   "execution_count": 10,
   "metadata": {
    "collapsed": false
   },
   "outputs": [
    {
     "data": {
      "text/plain": [
       "<matplotlib.axes._subplots.AxesSubplot at 0x7fc49ec9e438>"
      ]
     },
     "execution_count": 10,
     "metadata": {},
     "output_type": "execute_result"
    },
    {
     "data": {
      "image/png": "[encoded data removed]",
      "text/plain": [
       "<matplotlib.figure.Figure at 0x7fc49eccee48>"
      ]
     },
     "metadata": {},
     "output_type": "display_data"
    }
   ],
   "source": [
    "employee_sales = run_query(employee_sales_q)\n",
    "\n",
    "employee_sales.set_index('name', inplace=True, drop=True)\n",
    "\n",
    "employee_sales.plot.bar()"
   ]
  },
  {
   "cell_type": "markdown",
   "metadata": {},
   "source": [
    "The difference in sales corresponds to the difference in hiring dates"
   ]
  },
  {
   "cell_type": "markdown",
   "metadata": {},
   "source": [
    "# Customers from different countries"
   ]
  },
  {
   "cell_type": "code",
   "execution_count": 11,
   "metadata": {
    "collapsed": false
   },
   "outputs": [
    {
     "data": {
      "text/html": [
       "<div>\n",
       "<table border=\"1\" class=\"dataframe\">\n",
       "  <thead>\n",
       "    <tr style=\"text-align: right;\">\n",
       "      <th></th>\n",
       "      <th>COUNT(c.customer_id)</th>\n",
       "      <th>country</th>\n",
       "    </tr>\n",
       "  </thead>\n",
       "  <tbody>\n",
       "    <tr>\n",
       "      <th>0</th>\n",
       "      <td>1</td>\n",
       "      <td>Argentina</td>\n",
       "    </tr>\n",
       "    <tr>\n",
       "      <th>1</th>\n",
       "      <td>1</td>\n",
       "      <td>Australia</td>\n",
       "    </tr>\n",
       "    <tr>\n",
       "      <th>2</th>\n",
       "      <td>1</td>\n",
       "      <td>Austria</td>\n",
       "    </tr>\n",
       "    <tr>\n",
       "      <th>3</th>\n",
       "      <td>1</td>\n",
       "      <td>Belgium</td>\n",
       "    </tr>\n",
       "    <tr>\n",
       "      <th>4</th>\n",
       "      <td>5</td>\n",
       "      <td>Brazil</td>\n",
       "    </tr>\n",
       "    <tr>\n",
       "      <th>5</th>\n",
       "      <td>8</td>\n",
       "      <td>Canada</td>\n",
       "    </tr>\n",
       "    <tr>\n",
       "      <th>6</th>\n",
       "      <td>1</td>\n",
       "      <td>Chile</td>\n",
       "    </tr>\n",
       "    <tr>\n",
       "      <th>7</th>\n",
       "      <td>2</td>\n",
       "      <td>Czech Republic</td>\n",
       "    </tr>\n",
       "    <tr>\n",
       "      <th>8</th>\n",
       "      <td>1</td>\n",
       "      <td>Denmark</td>\n",
       "    </tr>\n",
       "    <tr>\n",
       "      <th>9</th>\n",
       "      <td>1</td>\n",
       "      <td>Finland</td>\n",
       "    </tr>\n",
       "    <tr>\n",
       "      <th>10</th>\n",
       "      <td>5</td>\n",
       "      <td>France</td>\n",
       "    </tr>\n",
       "    <tr>\n",
       "      <th>11</th>\n",
       "      <td>4</td>\n",
       "      <td>Germany</td>\n",
       "    </tr>\n",
       "    <tr>\n",
       "      <th>12</th>\n",
       "      <td>1</td>\n",
       "      <td>Hungary</td>\n",
       "    </tr>\n",
       "    <tr>\n",
       "      <th>13</th>\n",
       "      <td>2</td>\n",
       "      <td>India</td>\n",
       "    </tr>\n",
       "    <tr>\n",
       "      <th>14</th>\n",
       "      <td>1</td>\n",
       "      <td>Ireland</td>\n",
       "    </tr>\n",
       "    <tr>\n",
       "      <th>15</th>\n",
       "      <td>1</td>\n",
       "      <td>Italy</td>\n",
       "    </tr>\n",
       "    <tr>\n",
       "      <th>16</th>\n",
       "      <td>1</td>\n",
       "      <td>Netherlands</td>\n",
       "    </tr>\n",
       "    <tr>\n",
       "      <th>17</th>\n",
       "      <td>1</td>\n",
       "      <td>Norway</td>\n",
       "    </tr>\n",
       "    <tr>\n",
       "      <th>18</th>\n",
       "      <td>1</td>\n",
       "      <td>Poland</td>\n",
       "    </tr>\n",
       "    <tr>\n",
       "      <th>19</th>\n",
       "      <td>2</td>\n",
       "      <td>Portugal</td>\n",
       "    </tr>\n",
       "    <tr>\n",
       "      <th>20</th>\n",
       "      <td>1</td>\n",
       "      <td>Spain</td>\n",
       "    </tr>\n",
       "    <tr>\n",
       "      <th>21</th>\n",
       "      <td>1</td>\n",
       "      <td>Sweden</td>\n",
       "    </tr>\n",
       "    <tr>\n",
       "      <th>22</th>\n",
       "      <td>13</td>\n",
       "      <td>USA</td>\n",
       "    </tr>\n",
       "    <tr>\n",
       "      <th>23</th>\n",
       "      <td>3</td>\n",
       "      <td>United Kingdom</td>\n",
       "    </tr>\n",
       "  </tbody>\n",
       "</table>\n",
       "</div>"
      ],
      "text/plain": [
       "    COUNT(c.customer_id)         country\n",
       "0                      1       Argentina\n",
       "1                      1       Australia\n",
       "2                      1         Austria\n",
       "3                      1         Belgium\n",
       "4                      5          Brazil\n",
       "5                      8          Canada\n",
       "6                      1           Chile\n",
       "7                      2  Czech Republic\n",
       "8                      1         Denmark\n",
       "9                      1         Finland\n",
       "10                     5          France\n",
       "11                     4         Germany\n",
       "12                     1         Hungary\n",
       "13                     2           India\n",
       "14                     1         Ireland\n",
       "15                     1           Italy\n",
       "16                     1     Netherlands\n",
       "17                     1          Norway\n",
       "18                     1          Poland\n",
       "19                     2        Portugal\n",
       "20                     1           Spain\n",
       "21                     1          Sweden\n",
       "22                    13             USA\n",
       "23                     3  United Kingdom"
      ]
     },
     "execution_count": 11,
     "metadata": {},
     "output_type": "execute_result"
    }
   ],
   "source": [
    "country_stats = \"\"\"\n",
    "                    \n",
    "                    SELECT\n",
    "                        COUNT(c.customer_id),\n",
    "                        c.country\n",
    "                    FROM customer c\n",
    "                    GROUP BY c.country\n",
    "                    \n",
    "                \"\"\"\n",
    "run_query(country_stats)"
   ]
  },
  {
   "cell_type": "code",
   "execution_count": 12,
   "metadata": {
    "collapsed": false
   },
   "outputs": [
    {
     "data": {
      "text/html": [
       "<div>\n",
       "<table border=\"1\" class=\"dataframe\">\n",
       "  <thead>\n",
       "    <tr style=\"text-align: right;\">\n",
       "      <th></th>\n",
       "      <th>country_name</th>\n",
       "      <th>SUM(oc.customers)</th>\n",
       "      <th>SUM(oc.total_sales)</th>\n",
       "      <th>SUM(oc.av_per_customer)</th>\n",
       "      <th>SUM(oc.av_per_order)</th>\n",
       "    </tr>\n",
       "  </thead>\n",
       "  <tbody>\n",
       "    <tr>\n",
       "      <th>0</th>\n",
       "      <td>Brazil</td>\n",
       "      <td>5</td>\n",
       "      <td>427.68</td>\n",
       "      <td>85.536000</td>\n",
       "      <td>7.011148</td>\n",
       "    </tr>\n",
       "    <tr>\n",
       "      <th>1</th>\n",
       "      <td>Canada</td>\n",
       "      <td>8</td>\n",
       "      <td>535.59</td>\n",
       "      <td>66.948750</td>\n",
       "      <td>7.047237</td>\n",
       "    </tr>\n",
       "    <tr>\n",
       "      <th>2</th>\n",
       "      <td>Czech Republic</td>\n",
       "      <td>2</td>\n",
       "      <td>273.24</td>\n",
       "      <td>136.620000</td>\n",
       "      <td>9.108000</td>\n",
       "    </tr>\n",
       "    <tr>\n",
       "      <th>3</th>\n",
       "      <td>France</td>\n",
       "      <td>5</td>\n",
       "      <td>389.07</td>\n",
       "      <td>77.814000</td>\n",
       "      <td>7.781400</td>\n",
       "    </tr>\n",
       "    <tr>\n",
       "      <th>4</th>\n",
       "      <td>Germany</td>\n",
       "      <td>4</td>\n",
       "      <td>334.62</td>\n",
       "      <td>83.655000</td>\n",
       "      <td>8.161463</td>\n",
       "    </tr>\n",
       "    <tr>\n",
       "      <th>5</th>\n",
       "      <td>India</td>\n",
       "      <td>2</td>\n",
       "      <td>183.15</td>\n",
       "      <td>91.575000</td>\n",
       "      <td>8.721429</td>\n",
       "    </tr>\n",
       "    <tr>\n",
       "      <th>6</th>\n",
       "      <td>OTHER</td>\n",
       "      <td>15</td>\n",
       "      <td>1094.94</td>\n",
       "      <td>1094.940000</td>\n",
       "      <td>111.676066</td>\n",
       "    </tr>\n",
       "    <tr>\n",
       "      <th>7</th>\n",
       "      <td>Portugal</td>\n",
       "      <td>2</td>\n",
       "      <td>185.13</td>\n",
       "      <td>92.565000</td>\n",
       "      <td>6.383793</td>\n",
       "    </tr>\n",
       "    <tr>\n",
       "      <th>8</th>\n",
       "      <td>USA</td>\n",
       "      <td>13</td>\n",
       "      <td>1040.49</td>\n",
       "      <td>80.037692</td>\n",
       "      <td>7.942672</td>\n",
       "    </tr>\n",
       "    <tr>\n",
       "      <th>9</th>\n",
       "      <td>United Kingdom</td>\n",
       "      <td>3</td>\n",
       "      <td>245.52</td>\n",
       "      <td>81.840000</td>\n",
       "      <td>8.768571</td>\n",
       "    </tr>\n",
       "  </tbody>\n",
       "</table>\n",
       "</div>"
      ],
      "text/plain": [
       "     country_name  SUM(oc.customers)  SUM(oc.total_sales)  \\\n",
       "0          Brazil                  5               427.68   \n",
       "1          Canada                  8               535.59   \n",
       "2  Czech Republic                  2               273.24   \n",
       "3          France                  5               389.07   \n",
       "4         Germany                  4               334.62   \n",
       "5           India                  2               183.15   \n",
       "6           OTHER                 15              1094.94   \n",
       "7        Portugal                  2               185.13   \n",
       "8             USA                 13              1040.49   \n",
       "9  United Kingdom                  3               245.52   \n",
       "\n",
       "   SUM(oc.av_per_customer)  SUM(oc.av_per_order)  \n",
       "0                85.536000              7.011148  \n",
       "1                66.948750              7.047237  \n",
       "2               136.620000              9.108000  \n",
       "3                77.814000              7.781400  \n",
       "4                83.655000              8.161463  \n",
       "5                91.575000              8.721429  \n",
       "6              1094.940000            111.676066  \n",
       "7                92.565000              6.383793  \n",
       "8                80.037692              7.942672  \n",
       "9                81.840000              8.768571  "
      ]
     },
     "execution_count": 12,
     "metadata": {},
     "output_type": "execute_result"
    }
   ],
   "source": [
    "country_stats = \"\"\"\n",
    "                WITH\n",
    "                    country_customers AS\n",
    "                        (\n",
    "                        SELECT\n",
    "                            COUNT(customer_id) customers,\n",
    "                            c.country\n",
    "                        FROM customer c\n",
    "                        GROUP BY c.country\n",
    "                        ),\n",
    "                    \n",
    "                    country_tot_sales AS\n",
    "                        (\n",
    "                        SELECT\n",
    "                            c.country,\n",
    "                            SUM(i.total) total_sales\n",
    "                        FROM customer c\n",
    "                        INNER JOIN invoice i ON i.customer_id = c.customer_id\n",
    "                        GROUP BY c.country\n",
    "                        ),\n",
    "                    \n",
    "                    country_orders AS\n",
    "                        (\n",
    "                        SELECT\n",
    "                            c.country,\n",
    "                            COUNT(i.invoice_id) num_orders\n",
    "                        FROM customer c\n",
    "                        INNER JOIN invoice i ON i.customer_id = c.customer_id\n",
    "                        GROUP BY c.country\n",
    "                        ),\n",
    "                        \n",
    "                    all_together AS\n",
    "                        (\n",
    "                        SELECT\n",
    "                            cc.country,\n",
    "                            cc.customers,\n",
    "                            cts.total_sales,\n",
    "                            cts.total_sales / cc.customers av_per_customer,\n",
    "                            cts.total_sales / co.num_orders av_per_order\n",
    "                        FROM country_customers cc\n",
    "                        INNER JOIN country_tot_sales cts ON cts.country = cc.country\n",
    "                        INNER JOIN country_orders co ON co.country = cc.country\n",
    "                        ),\n",
    "                    \n",
    "                    other_cat AS\n",
    "                        (\n",
    "                        SELECT\n",
    "                            at.*,\n",
    "                            CASE\n",
    "                                WHEN at.customers < 2 THEN 'OTHER'\n",
    "                                ELSE at.country\n",
    "                            end AS country_name\n",
    "                        FROM all_together at\n",
    "                        ),\n",
    "                    \n",
    "                    final_list AS\n",
    "                        (\n",
    "                        SELECT\n",
    "                            oc.country_name,\n",
    "                            SUM(oc.customers),\n",
    "                            SUM(oc.total_sales),\n",
    "                            SUM(oc.av_per_customer),\n",
    "                            SUM(oc.av_per_order)\n",
    "                        FROM other_cat OC\n",
    "                        GROUP BY country_name\n",
    "                        )\n",
    "                        \n",
    "                        \n",
    "                SELECT * from final_list\n",
    "                    \n",
    "                \"\"\"\n",
    "run_query(country_stats)"
   ]
  },
  {
   "cell_type": "code",
   "execution_count": 13,
   "metadata": {
    "collapsed": false
   },
   "outputs": [
    {
     "data": {
      "text/html": [
       "<div>\n",
       "<table border=\"1\" class=\"dataframe\">\n",
       "  <thead>\n",
       "    <tr style=\"text-align: right;\">\n",
       "      <th></th>\n",
       "      <th>country_name</th>\n",
       "      <th>customers</th>\n",
       "      <th>total_sales</th>\n",
       "      <th>av_order</th>\n",
       "      <th>per_customer</th>\n",
       "    </tr>\n",
       "  </thead>\n",
       "  <tbody>\n",
       "    <tr>\n",
       "      <th>0</th>\n",
       "      <td>USA</td>\n",
       "      <td>13</td>\n",
       "      <td>1040.49</td>\n",
       "      <td>7.942672</td>\n",
       "      <td>80.037692</td>\n",
       "    </tr>\n",
       "    <tr>\n",
       "      <th>1</th>\n",
       "      <td>Canada</td>\n",
       "      <td>8</td>\n",
       "      <td>535.59</td>\n",
       "      <td>7.047237</td>\n",
       "      <td>66.948750</td>\n",
       "    </tr>\n",
       "    <tr>\n",
       "      <th>2</th>\n",
       "      <td>Brazil</td>\n",
       "      <td>5</td>\n",
       "      <td>427.68</td>\n",
       "      <td>7.011148</td>\n",
       "      <td>85.536000</td>\n",
       "    </tr>\n",
       "    <tr>\n",
       "      <th>3</th>\n",
       "      <td>France</td>\n",
       "      <td>5</td>\n",
       "      <td>389.07</td>\n",
       "      <td>7.781400</td>\n",
       "      <td>77.814000</td>\n",
       "    </tr>\n",
       "    <tr>\n",
       "      <th>4</th>\n",
       "      <td>Germany</td>\n",
       "      <td>4</td>\n",
       "      <td>334.62</td>\n",
       "      <td>8.161463</td>\n",
       "      <td>83.655000</td>\n",
       "    </tr>\n",
       "    <tr>\n",
       "      <th>5</th>\n",
       "      <td>Czech Republic</td>\n",
       "      <td>2</td>\n",
       "      <td>273.24</td>\n",
       "      <td>9.108000</td>\n",
       "      <td>136.620000</td>\n",
       "    </tr>\n",
       "    <tr>\n",
       "      <th>6</th>\n",
       "      <td>United Kingdom</td>\n",
       "      <td>3</td>\n",
       "      <td>245.52</td>\n",
       "      <td>8.768571</td>\n",
       "      <td>81.840000</td>\n",
       "    </tr>\n",
       "    <tr>\n",
       "      <th>7</th>\n",
       "      <td>Portugal</td>\n",
       "      <td>2</td>\n",
       "      <td>185.13</td>\n",
       "      <td>6.383793</td>\n",
       "      <td>92.565000</td>\n",
       "    </tr>\n",
       "    <tr>\n",
       "      <th>8</th>\n",
       "      <td>India</td>\n",
       "      <td>2</td>\n",
       "      <td>183.15</td>\n",
       "      <td>8.721429</td>\n",
       "      <td>91.575000</td>\n",
       "    </tr>\n",
       "    <tr>\n",
       "      <th>9</th>\n",
       "      <td>OTHER</td>\n",
       "      <td>15</td>\n",
       "      <td>1094.94</td>\n",
       "      <td>7.448571</td>\n",
       "      <td>72.996000</td>\n",
       "    </tr>\n",
       "  </tbody>\n",
       "</table>\n",
       "</div>"
      ],
      "text/plain": [
       "     country_name  customers  total_sales  av_order  per_customer\n",
       "0             USA         13      1040.49  7.942672     80.037692\n",
       "1          Canada          8       535.59  7.047237     66.948750\n",
       "2          Brazil          5       427.68  7.011148     85.536000\n",
       "3          France          5       389.07  7.781400     77.814000\n",
       "4         Germany          4       334.62  8.161463     83.655000\n",
       "5  Czech Republic          2       273.24  9.108000    136.620000\n",
       "6  United Kingdom          3       245.52  8.768571     81.840000\n",
       "7        Portugal          2       185.13  6.383793     92.565000\n",
       "8           India          2       183.15  8.721429     91.575000\n",
       "9           OTHER         15      1094.94  7.448571     72.996000"
      ]
     },
     "execution_count": 13,
     "metadata": {},
     "output_type": "execute_result"
    }
   ],
   "source": [
    "country_stats = \"\"\"\n",
    "                WITH\n",
    "                    country_customers AS\n",
    "                        (\n",
    "                        SELECT\n",
    "                            COUNT(customer_id) customers,\n",
    "                            c.country\n",
    "                        FROM customer c\n",
    "                        GROUP BY c.country\n",
    "                        ),\n",
    "                        \n",
    "                    country_relabel AS\n",
    "                        (\n",
    "                        SELECT\n",
    "                            c.customer_id,\n",
    "                            CASE\n",
    "                                WHEN (\n",
    "                                        SELECT customers FROM country_customers cc\n",
    "                                        WHERE cc.country = c.country\n",
    "                                    ) < 2 THEN 'OTHER'\n",
    "                                ELSE c.country\n",
    "                            END as country_name\n",
    "                        FROM customer c\n",
    "                        ),\n",
    "                    \n",
    "                    all_data AS\n",
    "                        (\n",
    "                        SELECT\n",
    "                            cr.country_name,\n",
    "                            COUNT(DISTINCT(cr.customer_id)) customers,\n",
    "                            SUM(i.total) total_sales,\n",
    "                            SUM(i.total) / COUNT(i.invoice_id) av_order,\n",
    "                            SUM(i.total) / COUNT(DISTINCT(cr.customer_id)) per_customer\n",
    "                        FROM country_relabel cr\n",
    "                        INNER JOIN invoice i ON i.customer_id = cr.customer_id\n",
    "                        GROUP BY country_name\n",
    "                        ORDER BY total_sales DESC\n",
    "                        )\n",
    "                        \n",
    "                    SELECT\n",
    "                        country_name,\n",
    "                        customers,\n",
    "                        total_sales,\n",
    "                        av_order,\n",
    "                        per_customer\n",
    "                    FROM\n",
    "                        (\n",
    "                        SELECT\n",
    "                            ad.*,\n",
    "                            CASE\n",
    "                                WHEN ad.country_name = 'OTHER' THEN 1\n",
    "                                ELSE 0\n",
    "                            END AS sort\n",
    "                        FROM all_data ad    \n",
    "                        )\n",
    "                    ORDER BY sort ASC\n",
    "                    \"\"\"\n",
    "run_query(country_stats)"
   ]
  },
  {
   "cell_type": "code",
   "execution_count": 14,
   "metadata": {
    "collapsed": false
   },
   "outputs": [],
   "source": [
    "country_summary = run_query(country_stats)\n",
    "country_summary.set_index('country_name', inplace=True, drop=True)\n"
   ]
  },
  {
   "cell_type": "code",
   "execution_count": 15,
   "metadata": {
    "collapsed": false
   },
   "outputs": [
    {
     "data": {
      "text/plain": [
       "<matplotlib.axes._subplots.AxesSubplot at 0x7fc49ec78898>"
      ]
     },
     "execution_count": 15,
     "metadata": {},
     "output_type": "execute_result"
    },
    {
     "data": {
      "image/png": "[encoded data removed]",
      "text/plain": [
       "<matplotlib.figure.Figure at 0x7fc49ec93f98>"
      ]
     },
     "metadata": {},
     "output_type": "display_data"
    }
   ],
   "source": [
    "country_summary['customers'].iloc[:-1].plot.bar()"
   ]
  },
  {
   "cell_type": "code",
   "execution_count": 16,
   "metadata": {
    "collapsed": false,
    "scrolled": true
   },
   "outputs": [
    {
     "data": {
      "text/plain": [
       "<matplotlib.axes._subplots.AxesSubplot at 0x7fc49ec385c0>"
      ]
     },
     "execution_count": 16,
     "metadata": {},
     "output_type": "execute_result"
    },
    {
     "data": {
      "image/png": "[encoded data removed]",
      "text/plain": [
       "<matplotlib.figure.Figure at 0x7fc49ebc69e8>"
      ]
     },
     "metadata": {},
     "output_type": "display_data"
    }
   ],
   "source": [
    "country_summary['total_sales'].plot.pie(colormap=plt.cm.Accent, wedgeprops={'linewidth':0})"
   ]
  },
  {
   "cell_type": "code",
   "execution_count": 17,
   "metadata": {
    "collapsed": false,
    "scrolled": true
   },
   "outputs": [
    {
     "data": {
      "text/plain": [
       "<matplotlib.axes._subplots.AxesSubplot at 0x7fc49eccef60>"
      ]
     },
     "execution_count": 17,
     "metadata": {},
     "output_type": "execute_result"
    },
    {
     "data": {
      "image/png": "[encoded data removed]",
      "text/plain": [
       "<matplotlib.figure.Figure at 0x7fc49eb46f98>"
      ]
     },
     "metadata": {},
     "output_type": "display_data"
    }
   ],
   "source": [
    "country_summary['av_order'].plot.bar()"
   ]
  },
  {
   "cell_type": "code",
   "execution_count": 18,
   "metadata": {
    "collapsed": false
   },
   "outputs": [
    {
     "data": {
      "text/plain": [
       "<matplotlib.axes._subplots.AxesSubplot at 0x7fc49eb3acc0>"
      ]
     },
     "execution_count": 18,
     "metadata": {},
     "output_type": "execute_result"
    },
    {
     "data": {
      "image/png": "[encoded data removed]",
      "text/plain": [
       "<matplotlib.figure.Figure at 0x7fc49ea9dda0>"
      ]
     },
     "metadata": {},
     "output_type": "display_data"
    }
   ],
   "source": [
    "country_summary['per_customer'].plot.barh()"
   ]
  },
  {
   "cell_type": "markdown",
   "metadata": {},
   "source": [
    "# Albums vs individual tracks"
   ]
  },
  {
   "cell_type": "code",
   "execution_count": 44,
   "metadata": {
    "collapsed": false
   },
   "outputs": [
    {
     "data": {
      "text/html": [
       "<div>\n",
       "<table border=\"1\" class=\"dataframe\">\n",
       "  <thead>\n",
       "    <tr style=\"text-align: right;\">\n",
       "      <th></th>\n",
       "      <th>purchase_type</th>\n",
       "      <th>COUNT(invoice_id)</th>\n",
       "      <th>CAST(COUNT(invoice_id) AS FLOAT) / (SELECT COUNT(*) FROM invoice)</th>\n",
       "    </tr>\n",
       "  </thead>\n",
       "  <tbody>\n",
       "    <tr>\n",
       "      <th>0</th>\n",
       "      <td>Album purchase</td>\n",
       "      <td>114</td>\n",
       "      <td>0.185668</td>\n",
       "    </tr>\n",
       "    <tr>\n",
       "      <th>1</th>\n",
       "      <td>Single purchase(s)</td>\n",
       "      <td>500</td>\n",
       "      <td>0.814332</td>\n",
       "    </tr>\n",
       "  </tbody>\n",
       "</table>\n",
       "</div>"
      ],
      "text/plain": [
       "        purchase_type  COUNT(invoice_id)  \\\n",
       "0      Album purchase                114   \n",
       "1  Single purchase(s)                500   \n",
       "\n",
       "   CAST(COUNT(invoice_id) AS FLOAT) / (SELECT COUNT(*) FROM invoice)  \n",
       "0                                           0.185668                  \n",
       "1                                           0.814332                  "
      ]
     },
     "execution_count": 44,
     "metadata": {},
     "output_type": "execute_result"
    }
   ],
   "source": [
    "album_v_tracks_q = \"\"\" \n",
    "                    WITH\n",
    "                        invoice_album AS\n",
    "                            (\n",
    "                            SELECT\n",
    "                                i.invoice_id,\n",
    "                                t.album_id\n",
    "                            FROM invoice i\n",
    "                            INNER JOIN invoice_line il ON il.invoice_id = i.invoice_id\n",
    "                            INNER JOIN track t ON t.track_id = il.track_id\n",
    "                            GROUP BY i.invoice_id, t.album_id\n",
    "                            ),\n",
    "                        \n",
    "                        album_songs AS\n",
    "                            (\n",
    "                            SELECT\n",
    "                                a.album_id,\n",
    "                                t.track_id\n",
    "                            FROM track t\n",
    "                            INNER JOIN album a ON a.album_id = t.album_id\n",
    "                            ),\n",
    "                            \n",
    "                        data AS\n",
    "                            (\n",
    "                            SELECT\n",
    "                                ia.invoice_id,\n",
    "                                ia.album_id,\n",
    "                                CASE\n",
    "                                    WHEN\n",
    "\n",
    "                                            (\n",
    "                                            SELECT il.track_id FROM invoice_line il\n",
    "                                            WHERE il.invoice_id = ia.invoice_id\n",
    "                                            EXCEPT\n",
    "                                            SELECT als.track_id FROM album_songs als\n",
    "                                            WHERE als.album_id = ia.album_id\n",
    "                                            ) IS NULL\n",
    "\n",
    "                                            AND\n",
    "\n",
    "                                            (\n",
    "                                            SELECT als.track_id FROM album_songs als\n",
    "                                            WHERE als.album_id = ia.album_id\n",
    "                                            EXCEPT\n",
    "                                            SELECT il.track_id FROM invoice_line il\n",
    "                                            WHERE il.invoice_id = ia.invoice_id\n",
    "                                            ) IS NULL\n",
    "\n",
    "                                    THEN 0\n",
    "                                    ELSE 1\n",
    "                                END AS single_purchase\n",
    "                            FROM invoice_album ia\n",
    "                            ),\n",
    "                            \n",
    "                        final_invoice AS\n",
    "                            (\n",
    "                            SELECT\n",
    "                                d.invoice_id,\n",
    "                                SUM(d.single_purchase) single_purchase\n",
    "                            FROM data d\n",
    "                            GROUP BY 1\n",
    "                            ),\n",
    "                        \n",
    "                        label_purchases AS\n",
    "                            (\n",
    "                            SELECT\n",
    "                                fi.invoice_id,\n",
    "                                fi.single_purchase,\n",
    "                                CASE\n",
    "                                    WHEN fi.single_purchase = 0\n",
    "                                    THEN 'Album purchase'\n",
    "                                    ELSE 'Single purchase(s)'\n",
    "                                END AS purchase_type\n",
    "                            FROM final_invoice fi\n",
    "                            )\n",
    "                        \n",
    "                    SELECT\n",
    "                        purchase_type,\n",
    "                        COUNT(invoice_id),\n",
    "                        CAST(COUNT(invoice_id) AS FLOAT) / (SELECT COUNT(*) FROM invoice)\n",
    "                    FROM label_purchases\n",
    "                    GROUP BY purchase_type\n",
    "                    \"\"\"\n",
    "run_query(album_v_tracks_q)"
   ]
  }
 ],
 "metadata": {
  "kernelspec": {
   "display_name": "Python 3",
   "language": "python",
   "name": "python3"
  },
  "language_info": {
   "codemirror_mode": {
    "name": "ipython",
    "version": 3
   },
   "file_extension": ".py",
   "mimetype": "text/x-python",
   "name": "python",
   "nbconvert_exporter": "python",
   "pygments_lexer": "ipython3",
   "version": "3.4.3"
  }
 },
 "nbformat": 4,
 "nbformat_minor": 2
}

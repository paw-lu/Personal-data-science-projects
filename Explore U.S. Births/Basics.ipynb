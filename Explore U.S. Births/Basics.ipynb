{
 "cells": [
  {
   "cell_type": "code",
   "execution_count": 1,
   "metadata": {
    "collapsed": false
   },
   "outputs": [
    {
     "data": {
      "text/plain": [
       "['year,month,date_of_month,day_of_week,births',\n",
       " '1994,1,1,6,8096',\n",
       " '1994,1,2,7,7772',\n",
       " '1994,1,3,1,10142',\n",
       " '1994,1,4,2,11248',\n",
       " '1994,1,5,3,11053',\n",
       " '1994,1,6,4,11406',\n",
       " '1994,1,7,5,11251',\n",
       " '1994,1,8,6,8653',\n",
       " '1994,1,9,7,7910']"
      ]
     },
     "execution_count": 1,
     "metadata": {},
     "output_type": "execute_result"
    }
   ],
   "source": [
    "read_file = open(\"US_births_1994-2003_CDC_NCHS.csv\", \"r\").read()\n",
    "split_data = read_file.split(\"\\n\")\n",
    "\n",
    "split_data[0:10]"
   ]
  },
  {
   "cell_type": "code",
   "execution_count": 7,
   "metadata": {
    "collapsed": false,
    "scrolled": true
   },
   "outputs": [
    {
     "data": {
      "text/plain": [
       "[[1994, 1, 1, 6, 8096],\n",
       " [1994, 1, 2, 7, 7772],\n",
       " [1994, 1, 3, 1, 10142],\n",
       " [1994, 1, 4, 2, 11248],\n",
       " [1994, 1, 5, 3, 11053],\n",
       " [1994, 1, 6, 4, 11406],\n",
       " [1994, 1, 7, 5, 11251],\n",
       " [1994, 1, 8, 6, 8653],\n",
       " [1994, 1, 9, 7, 7910],\n",
       " [1994, 1, 10, 1, 10498]]"
      ]
     },
     "execution_count": 7,
     "metadata": {},
     "output_type": "execute_result"
    }
   ],
   "source": [
    "def read_csv(CSV_file):\n",
    "    read_file = open(CSV_file, \"r\").read()\n",
    "    split_data = read_file.split(\"\\n\")\n",
    "    strip_header = split_data[1:len(split_data)]\n",
    "\n",
    "    final_list = []\n",
    "    \n",
    "    for entry in strip_header:\n",
    "        string_fields = []\n",
    "        string_fields = entry.split(\",\")\n",
    "        \n",
    "        int_fields = []\n",
    "        for string in string_fields:\n",
    "            int_fields.append(int(string))\n",
    "        \n",
    "        final_list.append(int_fields)\n",
    "    \n",
    "    return final_list\n",
    "        \n",
    "cdc_list =  read_csv(\"US_births_1994-2003_CDC_NCHS.csv\")\n",
    "\n",
    "cdc_list[0:10]"
   ]
  },
  {
   "cell_type": "code",
   "execution_count": 11,
   "metadata": {
    "collapsed": false
   },
   "outputs": [
    {
     "data": {
      "text/plain": [
       "{1: 3232517,\n",
       " 2: 3018140,\n",
       " 3: 3322069,\n",
       " 4: 3185314,\n",
       " 5: 3350907,\n",
       " 6: 3296530,\n",
       " 7: 3498783,\n",
       " 8: 3525858,\n",
       " 9: 3439698,\n",
       " 10: 3378814,\n",
       " 11: 3171647,\n",
       " 12: 3301860}"
      ]
     },
     "execution_count": 11,
     "metadata": {},
     "output_type": "execute_result"
    }
   ],
   "source": [
    "def month_birth(list_of_lists):\n",
    "    births_per_month = {}\n",
    "    for lists in list_of_lists:\n",
    "        month = lists[1]\n",
    "        births = lists[4]\n",
    "        \n",
    "        if month in births_per_month:\n",
    "            births_per_month[month] += births\n",
    "        else:\n",
    "            births_per_month[month] = births\n",
    "    \n",
    "    return births_per_month\n",
    "\n",
    "cdc_month_births = month_birth(cdc_list)\n",
    "\n",
    "cdc_month_births"
   ]
  },
  {
   "cell_type": "code",
   "execution_count": 13,
   "metadata": {
    "collapsed": false
   },
   "outputs": [
    {
     "data": {
      "text/plain": [
       "{1: 5789166,\n",
       " 2: 6446196,\n",
       " 3: 6322855,\n",
       " 4: 6288429,\n",
       " 5: 6233657,\n",
       " 6: 4562111,\n",
       " 7: 4079723}"
      ]
     },
     "execution_count": 13,
     "metadata": {},
     "output_type": "execute_result"
    }
   ],
   "source": [
    "def dow_births(list_of_lists):\n",
    "    births_per_day = {}\n",
    "    for lists in list_of_lists:\n",
    "        day = lists[3]\n",
    "        births = lists[4]\n",
    "        \n",
    "        if day in births_per_day:\n",
    "            births_per_day[day] += births\n",
    "        else:\n",
    "            births_per_day[day] = births\n",
    "    \n",
    "    return births_per_day\n",
    "\n",
    "cdc_day_births = dow_births(cdc_list)\n",
    "\n",
    "cdc_day_births   "
   ]
  },
  {
   "cell_type": "code",
   "execution_count": 16,
   "metadata": {
    "collapsed": false
   },
   "outputs": [
    {
     "data": {
      "text/plain": [
       "{1: 5789166,\n",
       " 2: 6446196,\n",
       " 3: 6322855,\n",
       " 4: 6288429,\n",
       " 5: 6233657,\n",
       " 6: 4562111,\n",
       " 7: 4079723}"
      ]
     },
     "execution_count": 16,
     "metadata": {},
     "output_type": "execute_result"
    }
   ],
   "source": [
    "def calc_counts(data, column):\n",
    "    births_per_column = {}\n",
    "    for lists in data:\n",
    "        parameter = lists[column]\n",
    "        births = lists[4]\n",
    "        \n",
    "        if parameter in births_per_column:\n",
    "            births_per_column[parameter] += births\n",
    "        else:\n",
    "            births_per_column[parameter] = births\n",
    "    \n",
    "    return births_per_column\n",
    "\n",
    "cdc_year_births = calc_counts(cdc_list, 0)\n",
    "cdc_month_births = calc_counts(cdc_list, 1)\n",
    "cdc_month_births = calc_counts(cdc_list, 2)\n",
    "cdc_dow_births = calc_counts(cdc_list, 3)\n",
    "\n",
    "cdc_dow_births"
   ]
  },
  {
   "cell_type": "code",
   "execution_count": null,
   "metadata": {
    "collapsed": true
   },
   "outputs": [],
   "source": []
  }
 ],
 "metadata": {
  "anaconda-cloud": {},
  "kernelspec": {
   "display_name": "Python 3",
   "language": "python",
   "name": "python3"
  },
  "language_info": {
   "codemirror_mode": {
    "name": "ipython",
    "version": 3
   },
   "file_extension": ".py",
   "mimetype": "text/x-python",
   "name": "python",
   "nbconvert_exporter": "python",
   "pygments_lexer": "ipython3",
   "version": "3.4.3"
  }
 },
 "nbformat": 4,
 "nbformat_minor": 1
}

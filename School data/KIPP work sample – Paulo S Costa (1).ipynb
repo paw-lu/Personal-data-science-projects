{
 "cells": [
  {
   "cell_type": "markdown",
   "metadata": {},
   "source": [
    "# Part 1: Data Querying"
   ]
  },
  {
   "cell_type": "markdown",
   "metadata": {},
   "source": [
    "On the Data Team, one of our main vehicles for efficient data access is through our student\n",
    "information system (SIS)’ backend. Demonstrate your knowledge of querying databases by\n",
    "communicating the SQL query you would use for the following three tasks. Please use the\n",
    "“KIPP Enrollment Data Model” shown on the following page. You do not need to reference the\n",
    "spreadsheet for this Part 1:"
   ]
  },
  {
   "cell_type": "markdown",
   "metadata": {},
   "source": [
    "![KIPP model](https://raw.githubusercontent.com/pscosta5/Personal-data-science-projects/master/School%20data/KIPP-model.PNG)"
   ]
  },
  {
   "cell_type": "markdown",
   "metadata": {},
   "source": [
    "1. Return the unique count of all students enrolled at each school for the school year\n",
    "2015–16 by Lunch Status"
   ]
  },
  {
   "cell_type": "code",
   "execution_count": null,
   "metadata": {},
   "outputs": [],
   "source": [
    "# Use SQLite syntax\n",
    "\n",
    "\"\"\"\n",
    "WITH student_lunch AS\n",
    "    (\n",
    "    SELECT\n",
    "        s.SSID,\n",
    "        s.LunchStatus,\n",
    "        e.SchoolYear\n",
    "    FROM Students s\n",
    "    INNER JOIN Enrollment e ON e.SSID = s.SSID\n",
    "    )\n",
    "    \n",
    "SELECT\n",
    "    LunchStatus,\n",
    "    COUNT(DISTINCT(SSID)) number_of_students\n",
    "FROM student_lunch\n",
    "WHERE SchoolYear = '2015-2016'\n",
    "GROUP BY LunchStatus\n",
    "\"\"\"\n",
    "\n",
    "# I'm assuming here that the column SchoolYear is in the format 20XX–20XX \n",
    "# as it in the attached spreadsheet"
   ]
  },
  {
   "cell_type": "markdown",
   "metadata": {},
   "source": [
    "2. Return a list of all actively enrolled 6th grade students for the school year 2015-16 (hint:\n",
    "enrollment statuses are flagged as ‘y’ and grades are stored as integers)."
   ]
  },
  {
   "cell_type": "code",
   "execution_count": null,
   "metadata": {},
   "outputs": [],
   "source": [
    "\"\"\"\n",
    "WITH student_grades AS\n",
    "    (\n",
    "    SELECT\n",
    "        s.SSID,\n",
    "        e.EnrollID,\n",
    "        s.FullName,\n",
    "        e.GradeLevel,\n",
    "        e.EnrollStatus\n",
    "    FROM Students s\n",
    "    INNER JOIN Enrollment e ON e.SSID = s.SSID\n",
    "    WHERE e.SchoolYear = '2015-2016'\n",
    "    )\n",
    "\n",
    "SELECT\n",
    "    SSID,\n",
    "    EnrollID,\n",
    "    FullName\n",
    "FROM student_grades\n",
    "WHERE GradeLevel = 6 AND EnrollStatus = 'y'\n",
    "\"\"\""
   ]
  },
  {
   "cell_type": "markdown",
   "metadata": {},
   "source": [
    "3. Create a view that captures all of a student’s school and demographic information, as\n",
    "well as surface whether or not a student has attended more than one KIPP school for\n",
    "the school year 15-16\n",
    "    * List of Schools:\n",
    "        - Elementary - KIPP Team, KIPP Respect\n",
    "        - Middle - KIPP Justice\n",
    "        - High - KIPP Courage"
   ]
  },
  {
   "cell_type": "code",
   "execution_count": null,
   "metadata": {},
   "outputs": [],
   "source": [
    "# Using SQLite syntax\n",
    "# Assuming we're only looking at students enrolled for the school year 2015–2016, and if they\n",
    "# attended more than one KIPP school in the school year 2015–2016\n",
    "\n",
    "\"\"\"\n",
    "CREATE VIEW student_demo AS\n",
    "    WITH school_counts AS\n",
    "        (\n",
    "        SELECT\n",
    "            e.SSID,\n",
    "            COUNT(DISTINCT(e.SchoolID)) school_count,\n",
    "            s.SchoolID\n",
    "        FROM School s\n",
    "        INNER JOIN Enrollment e ON e.SchoolID = s.SchoolID\n",
    "        WHERE e.SchoolYear = '2015-2016'\n",
    "        GROUP BY e.SSID\n",
    "        )\n",
    "\n",
    "    SELECT\n",
    "        st.*,\n",
    "        sc.*,\n",
    "        CASE\n",
    "            WHEN s_c.school_count > 1 THEN 'y'\n",
    "            ELSE 'n'\n",
    "            END\n",
    "            AS multiple_schools\n",
    "    FROM Students st\n",
    "    INNER JOIN Enrollment e ON e.SSID = st.SSID\n",
    "    INNER JOIN School sc ON sc.SchoolID = e.SchoolID\n",
    "    INNER JOIN school_counts s_c ON s_c.SSID = st.SSID\n",
    "    WHERE e.SchoolYear = '2015-2016'\n",
    "\"\"\""
   ]
  },
  {
   "cell_type": "markdown",
   "metadata": {},
   "source": [
    "# Part 2: Data QA"
   ]
  },
  {
   "cell_type": "markdown",
   "metadata": {},
   "source": [
    "Operations Managers at each school collect student enrollment and exit information and enter it\n",
    "into PowerSchool. Regionally, we conduct analyses on this data to help generate insights for\n",
    "our School Leaders and Enrollment Taskforce. Prior to conducting an analysis, we perform a\n",
    "quality control check on the data to identify if there’s anything problematic or concerning. With\n",
    "this in mind, describe one data quality issue you’ve observed and explain why it may be\n",
    "concerning (this isn’t meant to be an Easter Egg Hunt).\n",
    "\n",
    "*(Data is on tabs labeled: ‘Enrollment...’)*"
   ]
  },
  {
   "cell_type": "markdown",
   "metadata": {},
   "source": [
    "## Imports"
   ]
  },
  {
   "cell_type": "code",
   "execution_count": 34,
   "metadata": {},
   "outputs": [],
   "source": [
    "import pandas as pd\n",
    "import numpy as np\n",
    "import datetime\n",
    "import matplotlib.pyplot as plt\n",
    "import seaborn as sns\n",
    "sns.set()\n",
    "%matplotlib inline"
   ]
  },
  {
   "cell_type": "markdown",
   "metadata": {},
   "source": [
    "## Data"
   ]
  },
  {
   "cell_type": "markdown",
   "metadata": {},
   "source": [
    "[Spreadsheet for reference](https://docs.google.com/spreadsheets/d/13HG869V59xFTwZuwn2Yz8ILaXmi6QuXlyEDhIb5YNg8/edit?usp=sharing)"
   ]
  },
  {
   "cell_type": "code",
   "execution_count": 4,
   "metadata": {},
   "outputs": [],
   "source": [
    "# Import all sheets into Pandas\n",
    "\n",
    "enroll_dict = pd.read_excel('Work Sample_for Candidate_AD (2).xlsx', \n",
    "                            sheet_name='Enrollment Information',\n",
    "                            skiprows=5)\n",
    "lunch = pd.read_excel('Work Sample_for Candidate_AD (2).xlsx', \n",
    "                        sheet_name='Enrollment Lunch Status')\n",
    "enroll = pd.read_excel('Work Sample_for Candidate_AD (2).xlsx', \n",
    "                        sheet_name='Enrollment Data')\n",
    "sat_dict = pd.read_excel('Work Sample_for Candidate_AD (2).xlsx', \n",
    "                        sheet_name='SAT Information',\n",
    "                        skiprows=6, usecols=2)\n",
    "sat = pd.read_excel('Work Sample_for Candidate_AD (2).xlsx', \n",
    "                    sheet_name='SAT Data')\n",
    "ter_dict = pd.read_excel('Work Sample_for Candidate_AD (2).xlsx', \n",
    "                         sheet_name='TER Information')\n",
    "ter = pd.read_excel('Work Sample_for Candidate_AD (2).xlsx', \n",
    "                    sheet_name='TER Data')"
   ]
  },
  {
   "cell_type": "markdown",
   "metadata": {},
   "source": [
    "Each row of data contains enrollment data for a student who currently attends or previously attended KIPP Bay Area Schools through the 2015–16 School year (i.e,. 1 row per student)\n",
    "\n",
    "**NOTE: This reflects data since the beginning of time through the 15-16 School Year. Assume you're doing this analysis over the Summer of 15-16 and don't worry about 16-17 data.**"
   ]
  },
  {
   "cell_type": "code",
   "execution_count": 5,
   "metadata": {
    "scrolled": false
   },
   "outputs": [
    {
     "data": {
      "text/html": [
       "<div>\n",
       "<style scoped>\n",
       "    .dataframe tbody tr th:only-of-type {\n",
       "        vertical-align: middle;\n",
       "    }\n",
       "\n",
       "    .dataframe tbody tr th {\n",
       "        vertical-align: top;\n",
       "    }\n",
       "\n",
       "    .dataframe thead th {\n",
       "        text-align: right;\n",
       "    }\n",
       "</style>\n",
       "<table border=\"1\" class=\"dataframe\">\n",
       "  <thead>\n",
       "    <tr style=\"text-align: right;\">\n",
       "      <th></th>\n",
       "      <th>Fields</th>\n",
       "      <th>Description</th>\n",
       "    </tr>\n",
       "  </thead>\n",
       "  <tbody>\n",
       "    <tr>\n",
       "      <th>0</th>\n",
       "      <td>School Name</td>\n",
       "      <td>School that the student exited from</td>\n",
       "    </tr>\n",
       "    <tr>\n",
       "      <th>1</th>\n",
       "      <td>StudentID</td>\n",
       "      <td>Unique Identifier for a student</td>\n",
       "    </tr>\n",
       "    <tr>\n",
       "      <th>2</th>\n",
       "      <td>grade_level</td>\n",
       "      <td>Student's current grade if they were still enr...</td>\n",
       "    </tr>\n",
       "    <tr>\n",
       "      <th>3</th>\n",
       "      <td>School Type</td>\n",
       "      <td>Indicator of elementary, middle, or high</td>\n",
       "    </tr>\n",
       "    <tr>\n",
       "      <th>4</th>\n",
       "      <td>Original KIPP Entrydate</td>\n",
       "      <td>The date the student first came to KIPP</td>\n",
       "    </tr>\n",
       "    <tr>\n",
       "      <th>5</th>\n",
       "      <td>ExitDate</td>\n",
       "      <td>The date the student exited KIPP. (Assume thos...</td>\n",
       "    </tr>\n",
       "    <tr>\n",
       "      <th>6</th>\n",
       "      <td>Ending School Year</td>\n",
       "      <td>The School Year in which the student exited.\\n...</td>\n",
       "    </tr>\n",
       "    <tr>\n",
       "      <th>7</th>\n",
       "      <td>ExitCode</td>\n",
       "      <td>Exit code for student leaving KIPP</td>\n",
       "    </tr>\n",
       "    <tr>\n",
       "      <th>8</th>\n",
       "      <td>Still Enrolled (Y/N)</td>\n",
       "      <td>Whether or not the student is still enrolled</td>\n",
       "    </tr>\n",
       "    <tr>\n",
       "      <th>9</th>\n",
       "      <td>NaN</td>\n",
       "      <td>NaN</td>\n",
       "    </tr>\n",
       "    <tr>\n",
       "      <th>10</th>\n",
       "      <td>Lunch Status Data</td>\n",
       "      <td>NaN</td>\n",
       "    </tr>\n",
       "    <tr>\n",
       "      <th>11</th>\n",
       "      <td>Fields</td>\n",
       "      <td>NaN</td>\n",
       "    </tr>\n",
       "    <tr>\n",
       "      <th>12</th>\n",
       "      <td>StudentID</td>\n",
       "      <td>Unique Identifier for a student</td>\n",
       "    </tr>\n",
       "    <tr>\n",
       "      <th>13</th>\n",
       "      <td>LunchStatus</td>\n",
       "      <td>An indicator of the student's last designation...</td>\n",
       "    </tr>\n",
       "  </tbody>\n",
       "</table>\n",
       "</div>"
      ],
      "text/plain": [
       "                     Fields                                        Description\n",
       "0               School Name                School that the student exited from\n",
       "1                 StudentID                    Unique Identifier for a student\n",
       "2               grade_level  Student's current grade if they were still enr...\n",
       "3               School Type          Indicator of elementary, middle, or high \n",
       "4   Original KIPP Entrydate            The date the student first came to KIPP\n",
       "5                  ExitDate  The date the student exited KIPP. (Assume thos...\n",
       "6        Ending School Year  The School Year in which the student exited.\\n...\n",
       "7                  ExitCode                 Exit code for student leaving KIPP\n",
       "8      Still Enrolled (Y/N)       Whether or not the student is still enrolled\n",
       "9                       NaN                                                NaN\n",
       "10        Lunch Status Data                                                NaN\n",
       "11                   Fields                                                NaN\n",
       "12                StudentID                    Unique Identifier for a student\n",
       "13              LunchStatus  An indicator of the student's last designation..."
      ]
     },
     "execution_count": 5,
     "metadata": {},
     "output_type": "execute_result"
    }
   ],
   "source": [
    "enroll_dict"
   ]
  },
  {
   "cell_type": "code",
   "execution_count": 6,
   "metadata": {
    "scrolled": false
   },
   "outputs": [
    {
     "data": {
      "text/html": [
       "<div>\n",
       "<style scoped>\n",
       "    .dataframe tbody tr th:only-of-type {\n",
       "        vertical-align: middle;\n",
       "    }\n",
       "\n",
       "    .dataframe tbody tr th {\n",
       "        vertical-align: top;\n",
       "    }\n",
       "\n",
       "    .dataframe thead th {\n",
       "        text-align: right;\n",
       "    }\n",
       "</style>\n",
       "<table border=\"1\" class=\"dataframe\">\n",
       "  <thead>\n",
       "    <tr style=\"text-align: right;\">\n",
       "      <th></th>\n",
       "      <th>School Name</th>\n",
       "      <th>StudentID</th>\n",
       "      <th>grade_level</th>\n",
       "      <th>School Type</th>\n",
       "      <th>Original KIPP Entry</th>\n",
       "      <th>ExitDate</th>\n",
       "      <th>Ending School Year</th>\n",
       "      <th>Number of Years at KIPP</th>\n",
       "      <th>ExitCode</th>\n",
       "      <th>Still Enrolled (Y/N)</th>\n",
       "    </tr>\n",
       "  </thead>\n",
       "  <tbody>\n",
       "    <tr>\n",
       "      <th>0</th>\n",
       "      <td>KIPP Justice</td>\n",
       "      <td>6549</td>\n",
       "      <td>5</td>\n",
       "      <td>MS</td>\n",
       "      <td>2004-07-26 00:00:00</td>\n",
       "      <td>2004-12-10</td>\n",
       "      <td>2003-2004</td>\n",
       "      <td>1 Year or Less</td>\n",
       "      <td>(419) No Show</td>\n",
       "      <td>N</td>\n",
       "    </tr>\n",
       "    <tr>\n",
       "      <th>1</th>\n",
       "      <td>KIPP Justice</td>\n",
       "      <td>6739</td>\n",
       "      <td>5</td>\n",
       "      <td>MS</td>\n",
       "      <td>2004-11-18 00:00:00</td>\n",
       "      <td>2005-01-07</td>\n",
       "      <td>2004-2005</td>\n",
       "      <td>1 Year or Less</td>\n",
       "      <td>(419) No Show</td>\n",
       "      <td>N</td>\n",
       "    </tr>\n",
       "    <tr>\n",
       "      <th>2</th>\n",
       "      <td>KIPP Justice</td>\n",
       "      <td>3162</td>\n",
       "      <td>7</td>\n",
       "      <td>MS</td>\n",
       "      <td>2004-07-26 00:00:00</td>\n",
       "      <td>2006-09-10</td>\n",
       "      <td>2005-2006</td>\n",
       "      <td>2</td>\n",
       "      <td>(319) Transferred to another Public School</td>\n",
       "      <td>N</td>\n",
       "    </tr>\n",
       "    <tr>\n",
       "      <th>3</th>\n",
       "      <td>KIPP Justice</td>\n",
       "      <td>3158</td>\n",
       "      <td>6</td>\n",
       "      <td>MS</td>\n",
       "      <td>2004-07-26 00:00:00</td>\n",
       "      <td>2006-09-15</td>\n",
       "      <td>2005-2006</td>\n",
       "      <td>2</td>\n",
       "      <td>(119) Moved out of State</td>\n",
       "      <td>N</td>\n",
       "    </tr>\n",
       "    <tr>\n",
       "      <th>4</th>\n",
       "      <td>KIPP Respect</td>\n",
       "      <td>6707</td>\n",
       "      <td>7</td>\n",
       "      <td>MS</td>\n",
       "      <td>2005-09-06 00:00:00</td>\n",
       "      <td>2006-01-20</td>\n",
       "      <td>2005-2006</td>\n",
       "      <td>1 Year or Less</td>\n",
       "      <td>NaN</td>\n",
       "      <td>N</td>\n",
       "    </tr>\n",
       "  </tbody>\n",
       "</table>\n",
       "</div>"
      ],
      "text/plain": [
       "    School Name  StudentID grade_level School Type  Original KIPP Entry  \\\n",
       "0  KIPP Justice       6549           5          MS  2004-07-26 00:00:00   \n",
       "1  KIPP Justice       6739           5          MS  2004-11-18 00:00:00   \n",
       "2  KIPP Justice       3162           7          MS  2004-07-26 00:00:00   \n",
       "3  KIPP Justice       3158           6          MS  2004-07-26 00:00:00   \n",
       "4  KIPP Respect       6707           7          MS  2005-09-06 00:00:00   \n",
       "\n",
       "    ExitDate Ending School Year Number of Years at KIPP  \\\n",
       "0 2004-12-10          2003-2004          1 Year or Less   \n",
       "1 2005-01-07          2004-2005          1 Year or Less   \n",
       "2 2006-09-10          2005-2006                       2   \n",
       "3 2006-09-15          2005-2006                       2   \n",
       "4 2006-01-20          2005-2006          1 Year or Less   \n",
       "\n",
       "                                     ExitCode Still Enrolled (Y/N)  \n",
       "0                               (419) No Show                    N  \n",
       "1                               (419) No Show                    N  \n",
       "2  (319) Transferred to another Public School                    N  \n",
       "3                    (119) Moved out of State                    N  \n",
       "4                                         NaN                    N  "
      ]
     },
     "execution_count": 6,
     "metadata": {},
     "output_type": "execute_result"
    }
   ],
   "source": [
    "enroll.head()"
   ]
  },
  {
   "cell_type": "markdown",
   "metadata": {},
   "source": [
    "## Analysis"
   ]
  },
  {
   "cell_type": "code",
   "execution_count": 7,
   "metadata": {},
   "outputs": [],
   "source": [
    "def convert_datetime(date):\n",
    "    try:\n",
    "        return pd.to_datetime(date)\n",
    "    except Exception:\n",
    "        return None"
   ]
  },
  {
   "cell_type": "code",
   "execution_count": 8,
   "metadata": {},
   "outputs": [],
   "source": [
    "# Make a copy with datetime formats\n",
    "\n",
    "enroll_datecheck = enroll.copy()\n",
    "enroll_datecheck['ExitDate'] = pd.to_datetime(enroll['ExitDate'])\n",
    "enroll_datecheck['Original KIPP Entry'] = enroll['Original KIPP Entry'].apply(convert_datetime)"
   ]
  },
  {
   "cell_type": "code",
   "execution_count": 9,
   "metadata": {
    "scrolled": true
   },
   "outputs": [
    {
     "data": {
      "text/plain": [
       "School Name                   0\n",
       "StudentID                     0\n",
       "grade_level                   0\n",
       "School Type                   0\n",
       "Original KIPP Entry          88\n",
       "ExitDate                      0\n",
       "Ending School Year            0\n",
       "Number of Years at KIPP     109\n",
       "ExitCode                   3850\n",
       "Still Enrolled (Y/N)          0\n",
       "dtype: int64"
      ]
     },
     "execution_count": 9,
     "metadata": {},
     "output_type": "execute_result"
    }
   ],
   "source": [
    "# Find the missing values per column\n",
    "\n",
    "enroll_datecheck.isnull().sum()"
   ]
  },
  {
   "cell_type": "code",
   "execution_count": 10,
   "metadata": {},
   "outputs": [],
   "source": [
    "# For now drop missing values for analysis\n",
    "\n",
    "enroll_datecheck = enroll_datecheck.dropna()"
   ]
  },
  {
   "cell_type": "code",
   "execution_count": 11,
   "metadata": {},
   "outputs": [],
   "source": [
    "# Manually calculate time student spent in KIPP schools\n",
    "\n",
    "enroll_datecheck['Calculated Time'] = enroll_datecheck['ExitDate'] - \\\n",
    "                                        enroll_datecheck['Original KIPP Entry']"
   ]
  },
  {
   "cell_type": "markdown",
   "metadata": {},
   "source": [
    "## Solution"
   ]
  },
  {
   "cell_type": "code",
   "execution_count": 12,
   "metadata": {
    "scrolled": false
   },
   "outputs": [
    {
     "data": {
      "text/html": [
       "<div>\n",
       "<style scoped>\n",
       "    .dataframe tbody tr th:only-of-type {\n",
       "        vertical-align: middle;\n",
       "    }\n",
       "\n",
       "    .dataframe tbody tr th {\n",
       "        vertical-align: top;\n",
       "    }\n",
       "\n",
       "    .dataframe thead th {\n",
       "        text-align: right;\n",
       "    }\n",
       "</style>\n",
       "<table border=\"1\" class=\"dataframe\">\n",
       "  <thead>\n",
       "    <tr style=\"text-align: right;\">\n",
       "      <th></th>\n",
       "      <th>School Name</th>\n",
       "      <th>StudentID</th>\n",
       "      <th>grade_level</th>\n",
       "      <th>School Type</th>\n",
       "      <th>Original KIPP Entry</th>\n",
       "      <th>ExitDate</th>\n",
       "      <th>Ending School Year</th>\n",
       "      <th>Number of Years at KIPP</th>\n",
       "      <th>ExitCode</th>\n",
       "      <th>Still Enrolled (Y/N)</th>\n",
       "      <th>Calculated Time</th>\n",
       "    </tr>\n",
       "  </thead>\n",
       "  <tbody>\n",
       "    <tr>\n",
       "      <th>29</th>\n",
       "      <td>KIPP Respect</td>\n",
       "      <td>6943</td>\n",
       "      <td>5</td>\n",
       "      <td>MS</td>\n",
       "      <td>2007-08-08</td>\n",
       "      <td>2007-08-07</td>\n",
       "      <td>2006-2007</td>\n",
       "      <td>1 Year or Less</td>\n",
       "      <td>(419) No Show</td>\n",
       "      <td>N</td>\n",
       "      <td>-1 days</td>\n",
       "    </tr>\n",
       "    <tr>\n",
       "      <th>30</th>\n",
       "      <td>KIPP Respect</td>\n",
       "      <td>6944</td>\n",
       "      <td>5</td>\n",
       "      <td>MS</td>\n",
       "      <td>2007-08-08</td>\n",
       "      <td>2007-08-07</td>\n",
       "      <td>2006-2007</td>\n",
       "      <td>1 Year or Less</td>\n",
       "      <td>(419) No Show</td>\n",
       "      <td>N</td>\n",
       "      <td>-1 days</td>\n",
       "    </tr>\n",
       "    <tr>\n",
       "      <th>31</th>\n",
       "      <td>KIPP Respect</td>\n",
       "      <td>6965</td>\n",
       "      <td>5</td>\n",
       "      <td>MS</td>\n",
       "      <td>2007-08-27</td>\n",
       "      <td>2007-08-07</td>\n",
       "      <td>2006-2007</td>\n",
       "      <td>1 Year or Less</td>\n",
       "      <td>(419) No Show</td>\n",
       "      <td>N</td>\n",
       "      <td>-20 days</td>\n",
       "    </tr>\n",
       "    <tr>\n",
       "      <th>32</th>\n",
       "      <td>KIPP Respect</td>\n",
       "      <td>6964</td>\n",
       "      <td>7</td>\n",
       "      <td>MS</td>\n",
       "      <td>2007-08-27</td>\n",
       "      <td>2007-08-13</td>\n",
       "      <td>2006-2007</td>\n",
       "      <td>1 Year or Less</td>\n",
       "      <td>(419) No Show</td>\n",
       "      <td>N</td>\n",
       "      <td>-14 days</td>\n",
       "    </tr>\n",
       "    <tr>\n",
       "      <th>33</th>\n",
       "      <td>KIPP Respect</td>\n",
       "      <td>6962</td>\n",
       "      <td>6</td>\n",
       "      <td>MS</td>\n",
       "      <td>2007-08-27</td>\n",
       "      <td>2007-08-22</td>\n",
       "      <td>2006-2007</td>\n",
       "      <td>1 Year or Less</td>\n",
       "      <td>(419) No Show</td>\n",
       "      <td>N</td>\n",
       "      <td>-5 days</td>\n",
       "    </tr>\n",
       "  </tbody>\n",
       "</table>\n",
       "</div>"
      ],
      "text/plain": [
       "     School Name  StudentID grade_level School Type Original KIPP Entry  \\\n",
       "29  KIPP Respect       6943           5          MS          2007-08-08   \n",
       "30  KIPP Respect       6944           5          MS          2007-08-08   \n",
       "31  KIPP Respect       6965           5          MS          2007-08-27   \n",
       "32  KIPP Respect       6964           7          MS          2007-08-27   \n",
       "33  KIPP Respect       6962           6          MS          2007-08-27   \n",
       "\n",
       "     ExitDate Ending School Year Number of Years at KIPP       ExitCode  \\\n",
       "29 2007-08-07          2006-2007          1 Year or Less  (419) No Show   \n",
       "30 2007-08-07          2006-2007          1 Year or Less  (419) No Show   \n",
       "31 2007-08-07          2006-2007          1 Year or Less  (419) No Show   \n",
       "32 2007-08-13          2006-2007          1 Year or Less  (419) No Show   \n",
       "33 2007-08-22          2006-2007          1 Year or Less  (419) No Show   \n",
       "\n",
       "   Still Enrolled (Y/N) Calculated Time  \n",
       "29                    N         -1 days  \n",
       "30                    N         -1 days  \n",
       "31                    N        -20 days  \n",
       "32                    N        -14 days  \n",
       "33                    N         -5 days  "
      ]
     },
     "execution_count": 12,
     "metadata": {},
     "output_type": "execute_result"
    }
   ],
   "source": [
    "# Are any of the ExitDates before the Original KIPP Entry dates?\n",
    "\n",
    "enroll_datecheck[enroll_datecheck['Calculated Time'] < datetime.timedelta(seconds=0)].head()"
   ]
  },
  {
   "cell_type": "markdown",
   "metadata": {},
   "source": [
    "### Findings"
   ]
  },
  {
   "cell_type": "markdown",
   "metadata": {},
   "source": [
    "There are some mistakes in the dates listed in the data. Besides the number of invalid values in the `Original KIPP Entry` column, it seems that some of the listed dates in`ExitDate` come before the `Original KIPP\n",
    "Entry` dates. Obviously, these are mistakes—as a student must enter a KIPP before leaving it."
   ]
  },
  {
   "cell_type": "markdown",
   "metadata": {},
   "source": [
    "# Part 3: Data Transformation"
   ]
  },
  {
   "cell_type": "markdown",
   "metadata": {},
   "source": [
    "Because we work with so many varying data sources, we often spend a great deal of time\n",
    "transforming data sets into a common format. Please perform as many of the following\n",
    "transformations as you can, and if you’re using a scripted method (which is preferred but not\n",
    "required) please include any scripts you used to transform data, as well as the transformed\n",
    "data.\n",
    "\n",
    "*(Data is on tabs labeled: ‘SAT...’)*"
   ]
  },
  {
   "cell_type": "markdown",
   "metadata": {},
   "source": [
    "1. The data file currently has three fields containing IDs. Using these three fields, please\n",
    "construct a single concatenated field that uniquely identifies each school (hint: ensure\n",
    "that all IDs are of the same character length)."
   ]
  },
  {
   "cell_type": "markdown",
   "metadata": {},
   "source": [
    "## Data"
   ]
  },
  {
   "cell_type": "code",
   "execution_count": 13,
   "metadata": {},
   "outputs": [
    {
     "data": {
      "text/html": [
       "<div>\n",
       "<style scoped>\n",
       "    .dataframe tbody tr th:only-of-type {\n",
       "        vertical-align: middle;\n",
       "    }\n",
       "\n",
       "    .dataframe tbody tr th {\n",
       "        vertical-align: top;\n",
       "    }\n",
       "\n",
       "    .dataframe thead th {\n",
       "        text-align: right;\n",
       "    }\n",
       "</style>\n",
       "<table border=\"1\" class=\"dataframe\">\n",
       "  <thead>\n",
       "    <tr style=\"text-align: right;\">\n",
       "      <th></th>\n",
       "      <th>Field</th>\n",
       "      <th>Type</th>\n",
       "      <th>Description</th>\n",
       "    </tr>\n",
       "  </thead>\n",
       "  <tbody>\n",
       "    <tr>\n",
       "      <th>0</th>\n",
       "      <td>CO_CODE</td>\n",
       "      <td>Char</td>\n",
       "      <td>County code</td>\n",
       "    </tr>\n",
       "    <tr>\n",
       "      <th>1</th>\n",
       "      <td>DIST_CODE</td>\n",
       "      <td>Char</td>\n",
       "      <td>District code</td>\n",
       "    </tr>\n",
       "    <tr>\n",
       "      <th>2</th>\n",
       "      <td>SCH_CODE</td>\n",
       "      <td>Char</td>\n",
       "      <td>School code</td>\n",
       "    </tr>\n",
       "    <tr>\n",
       "      <th>3</th>\n",
       "      <td>TOTAL</td>\n",
       "      <td>Alphanumeric</td>\n",
       "      <td>Composite SAT Score</td>\n",
       "    </tr>\n",
       "    <tr>\n",
       "      <th>4</th>\n",
       "      <td>MATHEMATICS</td>\n",
       "      <td>Alphanumeric</td>\n",
       "      <td>Mathematics average score.</td>\n",
       "    </tr>\n",
       "    <tr>\n",
       "      <th>5</th>\n",
       "      <td>CRITICAL_READING</td>\n",
       "      <td>Alphanumeric</td>\n",
       "      <td>Verbal average score.</td>\n",
       "    </tr>\n",
       "    <tr>\n",
       "      <th>6</th>\n",
       "      <td>WRITING</td>\n",
       "      <td>Alphanumeric</td>\n",
       "      <td>Essay average score.</td>\n",
       "    </tr>\n",
       "    <tr>\n",
       "      <th>7</th>\n",
       "      <td>SAT_1550</td>\n",
       "      <td>Alphanumeric</td>\n",
       "      <td>% of students scoring above 1550</td>\n",
       "    </tr>\n",
       "  </tbody>\n",
       "</table>\n",
       "</div>"
      ],
      "text/plain": [
       "              Field          Type                       Description\n",
       "0           CO_CODE          Char                       County code\n",
       "1         DIST_CODE          Char                     District code\n",
       "2          SCH_CODE          Char                       School code\n",
       "3             TOTAL  Alphanumeric               Composite SAT Score\n",
       "4       MATHEMATICS  Alphanumeric        Mathematics average score.\n",
       "5  CRITICAL_READING  Alphanumeric             Verbal average score.\n",
       "6           WRITING  Alphanumeric              Essay average score.\n",
       "7          SAT_1550  Alphanumeric  % of students scoring above 1550"
      ]
     },
     "execution_count": 13,
     "metadata": {},
     "output_type": "execute_result"
    }
   ],
   "source": [
    "sat_dict"
   ]
  },
  {
   "cell_type": "code",
   "execution_count": 14,
   "metadata": {
    "scrolled": true
   },
   "outputs": [
    {
     "data": {
      "text/html": [
       "<div>\n",
       "<style scoped>\n",
       "    .dataframe tbody tr th:only-of-type {\n",
       "        vertical-align: middle;\n",
       "    }\n",
       "\n",
       "    .dataframe tbody tr th {\n",
       "        vertical-align: top;\n",
       "    }\n",
       "\n",
       "    .dataframe thead th {\n",
       "        text-align: right;\n",
       "    }\n",
       "</style>\n",
       "<table border=\"1\" class=\"dataframe\">\n",
       "  <thead>\n",
       "    <tr style=\"text-align: right;\">\n",
       "      <th></th>\n",
       "      <th>CO_CODE</th>\n",
       "      <th>DIST_CODE</th>\n",
       "      <th>SCH_CODE</th>\n",
       "      <th>TOTAL</th>\n",
       "      <th>MATHEMATICS</th>\n",
       "      <th>CRITICAL_READING</th>\n",
       "      <th>WRITING</th>\n",
       "      <th>SAT_1550</th>\n",
       "    </tr>\n",
       "  </thead>\n",
       "  <tbody>\n",
       "    <tr>\n",
       "      <th>0</th>\n",
       "      <td>1</td>\n",
       "      <td>110</td>\n",
       "      <td>10</td>\n",
       "      <td>1320</td>\n",
       "      <td>461</td>\n",
       "      <td>429</td>\n",
       "      <td>430</td>\n",
       "      <td>23.5</td>\n",
       "    </tr>\n",
       "    <tr>\n",
       "      <th>1</th>\n",
       "      <td>1</td>\n",
       "      <td>120</td>\n",
       "      <td>10</td>\n",
       "      <td>1502</td>\n",
       "      <td>515</td>\n",
       "      <td>506</td>\n",
       "      <td>481</td>\n",
       "      <td>41.7</td>\n",
       "    </tr>\n",
       "    <tr>\n",
       "      <th>2</th>\n",
       "      <td>1</td>\n",
       "      <td>590</td>\n",
       "      <td>25</td>\n",
       "      <td>1418</td>\n",
       "      <td>486</td>\n",
       "      <td>468</td>\n",
       "      <td>464</td>\n",
       "      <td>31.1</td>\n",
       "    </tr>\n",
       "    <tr>\n",
       "      <th>3</th>\n",
       "      <td>1</td>\n",
       "      <td>1310</td>\n",
       "      <td>5</td>\n",
       "      <td>1479</td>\n",
       "      <td>504</td>\n",
       "      <td>490</td>\n",
       "      <td>485</td>\n",
       "      <td>37.8</td>\n",
       "    </tr>\n",
       "    <tr>\n",
       "      <th>4</th>\n",
       "      <td>1</td>\n",
       "      <td>1790</td>\n",
       "      <td>40</td>\n",
       "      <td>1477</td>\n",
       "      <td>508</td>\n",
       "      <td>486</td>\n",
       "      <td>483</td>\n",
       "      <td>35.7</td>\n",
       "    </tr>\n",
       "  </tbody>\n",
       "</table>\n",
       "</div>"
      ],
      "text/plain": [
       "   CO_CODE  DIST_CODE  SCH_CODE  TOTAL  MATHEMATICS  CRITICAL_READING  \\\n",
       "0        1        110        10   1320          461               429   \n",
       "1        1        120        10   1502          515               506   \n",
       "2        1        590        25   1418          486               468   \n",
       "3        1       1310         5   1479          504               490   \n",
       "4        1       1790        40   1477          508               486   \n",
       "\n",
       "   WRITING  SAT_1550  \n",
       "0      430      23.5  \n",
       "1      481      41.7  \n",
       "2      464      31.1  \n",
       "3      485      37.8  \n",
       "4      483      35.7  "
      ]
     },
     "execution_count": 14,
     "metadata": {},
     "output_type": "execute_result"
    }
   ],
   "source": [
    "sat.head()"
   ]
  },
  {
   "cell_type": "markdown",
   "metadata": {},
   "source": [
    "## Transformation"
   ]
  },
  {
   "cell_type": "code",
   "execution_count": 15,
   "metadata": {},
   "outputs": [],
   "source": [
    "# Convert the three id fields to strings\n",
    "\n",
    "id_fields = ['CO_CODE', 'DIST_CODE', 'SCH_CODE']\n",
    "for col in id_fields:\n",
    "    sat[col] = sat[col].astype(str)"
   ]
  },
  {
   "cell_type": "code",
   "execution_count": 16,
   "metadata": {},
   "outputs": [
    {
     "data": {
      "text/plain": [
       "2    288\n",
       "1    106\n",
       "Name: CO_CODE, dtype: int64"
      ]
     },
     "execution_count": 16,
     "metadata": {},
     "output_type": "execute_result"
    }
   ],
   "source": [
    "# Checking the length of the codes for each column\n",
    "\n",
    "sat['CO_CODE'].apply(len).value_counts()"
   ]
  },
  {
   "cell_type": "code",
   "execution_count": 17,
   "metadata": {},
   "outputs": [
    {
     "data": {
      "text/plain": [
       "4    337\n",
       "3     57\n",
       "Name: DIST_CODE, dtype: int64"
      ]
     },
     "execution_count": 17,
     "metadata": {},
     "output_type": "execute_result"
    }
   ],
   "source": [
    "sat['DIST_CODE'].apply(len).value_counts()"
   ]
  },
  {
   "cell_type": "code",
   "execution_count": 18,
   "metadata": {
    "scrolled": true
   },
   "outputs": [
    {
     "data": {
      "text/plain": [
       "2    352\n",
       "3     28\n",
       "1     14\n",
       "Name: SCH_CODE, dtype: int64"
      ]
     },
     "execution_count": 18,
     "metadata": {},
     "output_type": "execute_result"
    }
   ],
   "source": [
    "sat['SCH_CODE'].apply(len).value_counts()"
   ]
  },
  {
   "cell_type": "code",
   "execution_count": 19,
   "metadata": {},
   "outputs": [],
   "source": [
    "# Add leading 0s\n",
    "\n",
    "def add_0s(code, length):\n",
    "    while len(code) < length:\n",
    "        code = \"0\" + code\n",
    "    return code"
   ]
  },
  {
   "cell_type": "code",
   "execution_count": 20,
   "metadata": {},
   "outputs": [],
   "source": [
    "sat['CO_CODE'] = sat['CO_CODE'].apply(lambda code: add_0s(code, 2))\n",
    "sat['DIST_CODE'] = sat['DIST_CODE'].apply(lambda code: add_0s(code, 4))\n",
    "sat['SCH_CODE'] = sat['SCH_CODE'].apply(lambda code: add_0s(code, 3))"
   ]
  },
  {
   "cell_type": "code",
   "execution_count": 21,
   "metadata": {},
   "outputs": [],
   "source": [
    "# Make unique ID column\n",
    "\n",
    "sat['ID'] = sat['CO_CODE'] + sat['DIST_CODE'] + sat['SCH_CODE']"
   ]
  },
  {
   "cell_type": "code",
   "execution_count": 22,
   "metadata": {},
   "outputs": [
    {
     "data": {
      "text/plain": [
       "['CO_CODE',\n",
       " 'DIST_CODE',\n",
       " 'SCH_CODE',\n",
       " 'TOTAL',\n",
       " 'MATHEMATICS',\n",
       " 'CRITICAL_READING',\n",
       " 'WRITING',\n",
       " 'SAT_1550',\n",
       " 'ID']"
      ]
     },
     "execution_count": 22,
     "metadata": {},
     "output_type": "execute_result"
    }
   ],
   "source": [
    "sat.columns.tolist()"
   ]
  },
  {
   "cell_type": "markdown",
   "metadata": {},
   "source": [
    "## Solution"
   ]
  },
  {
   "cell_type": "code",
   "execution_count": 23,
   "metadata": {
    "scrolled": false
   },
   "outputs": [
    {
     "data": {
      "text/html": [
       "<div>\n",
       "<style scoped>\n",
       "    .dataframe tbody tr th:only-of-type {\n",
       "        vertical-align: middle;\n",
       "    }\n",
       "\n",
       "    .dataframe tbody tr th {\n",
       "        vertical-align: top;\n",
       "    }\n",
       "\n",
       "    .dataframe thead th {\n",
       "        text-align: right;\n",
       "    }\n",
       "</style>\n",
       "<table border=\"1\" class=\"dataframe\">\n",
       "  <thead>\n",
       "    <tr style=\"text-align: right;\">\n",
       "      <th></th>\n",
       "      <th>ID</th>\n",
       "      <th>CO_CODE</th>\n",
       "      <th>DIST_CODE</th>\n",
       "      <th>SCH_CODE</th>\n",
       "      <th>TOTAL</th>\n",
       "      <th>MATHEMATICS</th>\n",
       "      <th>CRITICAL_READING</th>\n",
       "      <th>WRITING</th>\n",
       "      <th>SAT_1550</th>\n",
       "    </tr>\n",
       "  </thead>\n",
       "  <tbody>\n",
       "    <tr>\n",
       "      <th>0</th>\n",
       "      <td>010110010</td>\n",
       "      <td>01</td>\n",
       "      <td>0110</td>\n",
       "      <td>010</td>\n",
       "      <td>1320</td>\n",
       "      <td>461</td>\n",
       "      <td>429</td>\n",
       "      <td>430</td>\n",
       "      <td>23.5</td>\n",
       "    </tr>\n",
       "    <tr>\n",
       "      <th>1</th>\n",
       "      <td>010120010</td>\n",
       "      <td>01</td>\n",
       "      <td>0120</td>\n",
       "      <td>010</td>\n",
       "      <td>1502</td>\n",
       "      <td>515</td>\n",
       "      <td>506</td>\n",
       "      <td>481</td>\n",
       "      <td>41.7</td>\n",
       "    </tr>\n",
       "    <tr>\n",
       "      <th>2</th>\n",
       "      <td>010590025</td>\n",
       "      <td>01</td>\n",
       "      <td>0590</td>\n",
       "      <td>025</td>\n",
       "      <td>1418</td>\n",
       "      <td>486</td>\n",
       "      <td>468</td>\n",
       "      <td>464</td>\n",
       "      <td>31.1</td>\n",
       "    </tr>\n",
       "    <tr>\n",
       "      <th>3</th>\n",
       "      <td>011310005</td>\n",
       "      <td>01</td>\n",
       "      <td>1310</td>\n",
       "      <td>005</td>\n",
       "      <td>1479</td>\n",
       "      <td>504</td>\n",
       "      <td>490</td>\n",
       "      <td>485</td>\n",
       "      <td>37.8</td>\n",
       "    </tr>\n",
       "    <tr>\n",
       "      <th>4</th>\n",
       "      <td>011790040</td>\n",
       "      <td>01</td>\n",
       "      <td>1790</td>\n",
       "      <td>040</td>\n",
       "      <td>1477</td>\n",
       "      <td>508</td>\n",
       "      <td>486</td>\n",
       "      <td>483</td>\n",
       "      <td>35.7</td>\n",
       "    </tr>\n",
       "    <tr>\n",
       "      <th>5</th>\n",
       "      <td>011790050</td>\n",
       "      <td>01</td>\n",
       "      <td>1790</td>\n",
       "      <td>050</td>\n",
       "      <td>1371</td>\n",
       "      <td>470</td>\n",
       "      <td>454</td>\n",
       "      <td>447</td>\n",
       "      <td>25.5</td>\n",
       "    </tr>\n",
       "    <tr>\n",
       "      <th>6</th>\n",
       "      <td>011790060</td>\n",
       "      <td>01</td>\n",
       "      <td>1790</td>\n",
       "      <td>060</td>\n",
       "      <td>1403</td>\n",
       "      <td>471</td>\n",
       "      <td>464</td>\n",
       "      <td>468</td>\n",
       "      <td>34.7</td>\n",
       "    </tr>\n",
       "    <tr>\n",
       "      <th>7</th>\n",
       "      <td>011960050</td>\n",
       "      <td>01</td>\n",
       "      <td>1960</td>\n",
       "      <td>050</td>\n",
       "      <td>1522</td>\n",
       "      <td>519</td>\n",
       "      <td>506</td>\n",
       "      <td>497</td>\n",
       "      <td>41.2</td>\n",
       "    </tr>\n",
       "    <tr>\n",
       "      <th>8</th>\n",
       "      <td>012910050</td>\n",
       "      <td>01</td>\n",
       "      <td>2910</td>\n",
       "      <td>050</td>\n",
       "      <td>1531</td>\n",
       "      <td>529</td>\n",
       "      <td>504</td>\n",
       "      <td>498</td>\n",
       "      <td>47.4</td>\n",
       "    </tr>\n",
       "    <tr>\n",
       "      <th>9</th>\n",
       "      <td>014180050</td>\n",
       "      <td>01</td>\n",
       "      <td>4180</td>\n",
       "      <td>050</td>\n",
       "      <td>1135</td>\n",
       "      <td>395</td>\n",
       "      <td>363</td>\n",
       "      <td>377</td>\n",
       "      <td>4.3</td>\n",
       "    </tr>\n",
       "  </tbody>\n",
       "</table>\n",
       "</div>"
      ],
      "text/plain": [
       "          ID CO_CODE DIST_CODE SCH_CODE  TOTAL  MATHEMATICS  CRITICAL_READING  \\\n",
       "0  010110010      01      0110      010   1320          461               429   \n",
       "1  010120010      01      0120      010   1502          515               506   \n",
       "2  010590025      01      0590      025   1418          486               468   \n",
       "3  011310005      01      1310      005   1479          504               490   \n",
       "4  011790040      01      1790      040   1477          508               486   \n",
       "5  011790050      01      1790      050   1371          470               454   \n",
       "6  011790060      01      1790      060   1403          471               464   \n",
       "7  011960050      01      1960      050   1522          519               506   \n",
       "8  012910050      01      2910      050   1531          529               504   \n",
       "9  014180050      01      4180      050   1135          395               363   \n",
       "\n",
       "   WRITING  SAT_1550  \n",
       "0      430      23.5  \n",
       "1      481      41.7  \n",
       "2      464      31.1  \n",
       "3      485      37.8  \n",
       "4      483      35.7  \n",
       "5      447      25.5  \n",
       "6      468      34.7  \n",
       "7      497      41.2  \n",
       "8      498      47.4  \n",
       "9      377       4.3  "
      ]
     },
     "execution_count": 23,
     "metadata": {},
     "output_type": "execute_result"
    }
   ],
   "source": [
    "# Change order of new ID column so it comes first\n",
    "new_column_order = ['ID',\n",
    "                    'CO_CODE',\n",
    "                     'DIST_CODE',\n",
    "                     'SCH_CODE',\n",
    "                     'TOTAL',\n",
    "                     'MATHEMATICS',\n",
    "                     'CRITICAL_READING',\n",
    "                     'WRITING',\n",
    "                     'SAT_1550']\n",
    "sat = sat[new_column_order]\n",
    "sat.head(10)"
   ]
  },
  {
   "cell_type": "code",
   "execution_count": 24,
   "metadata": {},
   "outputs": [],
   "source": [
    "# Export to sheet for viewing\n",
    "\n",
    "writer = pd.ExcelWriter('unique_id.xlsx')\n",
    "sat.to_excel(writer, 'SAT Data', index=False)\n",
    "writer.close()"
   ]
  },
  {
   "cell_type": "markdown",
   "metadata": {},
   "source": [
    "#### **[Full sheet may be viewed here](https://docs.google.com/spreadsheets/d/1K7xBRPyHpgKmP0Dud7_6Eg8l7L5qr6SJnRqhI0-AUVQ/edit?usp=sharing)**\n",
    "https://docs.google.com/spreadsheets/d/1K7xBRPyHpgKmP0Dud7_6Eg8l7L5qr6SJnRqhI0-AUVQ/edit?usp=sharing"
   ]
  },
  {
   "cell_type": "markdown",
   "metadata": {},
   "source": [
    "2. The current file is stored in what is sometimes called wide format, where repeating\n",
    "values are stored in individual columns and rows are non-repeating. Please transform\n",
    "the file into long format, where schools would have multiple rows per school and\n",
    "columns would indicate ID, DATA_TYPE, and VALUE. For example:"
   ]
  },
  {
   "cell_type": "markdown",
   "metadata": {},
   "source": [
    "![KIPP transform](https://raw.githubusercontent.com/pscosta5/Personal-data-science-projects/master/School%20data/KIPP-transform.PNG)"
   ]
  },
  {
   "cell_type": "code",
   "execution_count": 25,
   "metadata": {},
   "outputs": [
    {
     "data": {
      "text/html": [
       "<div>\n",
       "<style scoped>\n",
       "    .dataframe tbody tr th:only-of-type {\n",
       "        vertical-align: middle;\n",
       "    }\n",
       "\n",
       "    .dataframe tbody tr th {\n",
       "        vertical-align: top;\n",
       "    }\n",
       "\n",
       "    .dataframe thead th {\n",
       "        text-align: right;\n",
       "    }\n",
       "</style>\n",
       "<table border=\"1\" class=\"dataframe\">\n",
       "  <thead>\n",
       "    <tr style=\"text-align: right;\">\n",
       "      <th></th>\n",
       "      <th>ID</th>\n",
       "      <th>CO_CODE</th>\n",
       "      <th>DIST_CODE</th>\n",
       "      <th>SCH_CODE</th>\n",
       "      <th>TOTAL</th>\n",
       "      <th>MATHEMATICS</th>\n",
       "      <th>CRITICAL_READING</th>\n",
       "      <th>WRITING</th>\n",
       "      <th>SAT_1550</th>\n",
       "    </tr>\n",
       "  </thead>\n",
       "  <tbody>\n",
       "    <tr>\n",
       "      <th>0</th>\n",
       "      <td>010110010</td>\n",
       "      <td>01</td>\n",
       "      <td>0110</td>\n",
       "      <td>010</td>\n",
       "      <td>1320</td>\n",
       "      <td>461</td>\n",
       "      <td>429</td>\n",
       "      <td>430</td>\n",
       "      <td>23.5</td>\n",
       "    </tr>\n",
       "    <tr>\n",
       "      <th>1</th>\n",
       "      <td>010120010</td>\n",
       "      <td>01</td>\n",
       "      <td>0120</td>\n",
       "      <td>010</td>\n",
       "      <td>1502</td>\n",
       "      <td>515</td>\n",
       "      <td>506</td>\n",
       "      <td>481</td>\n",
       "      <td>41.7</td>\n",
       "    </tr>\n",
       "    <tr>\n",
       "      <th>2</th>\n",
       "      <td>010590025</td>\n",
       "      <td>01</td>\n",
       "      <td>0590</td>\n",
       "      <td>025</td>\n",
       "      <td>1418</td>\n",
       "      <td>486</td>\n",
       "      <td>468</td>\n",
       "      <td>464</td>\n",
       "      <td>31.1</td>\n",
       "    </tr>\n",
       "    <tr>\n",
       "      <th>3</th>\n",
       "      <td>011310005</td>\n",
       "      <td>01</td>\n",
       "      <td>1310</td>\n",
       "      <td>005</td>\n",
       "      <td>1479</td>\n",
       "      <td>504</td>\n",
       "      <td>490</td>\n",
       "      <td>485</td>\n",
       "      <td>37.8</td>\n",
       "    </tr>\n",
       "    <tr>\n",
       "      <th>4</th>\n",
       "      <td>011790040</td>\n",
       "      <td>01</td>\n",
       "      <td>1790</td>\n",
       "      <td>040</td>\n",
       "      <td>1477</td>\n",
       "      <td>508</td>\n",
       "      <td>486</td>\n",
       "      <td>483</td>\n",
       "      <td>35.7</td>\n",
       "    </tr>\n",
       "  </tbody>\n",
       "</table>\n",
       "</div>"
      ],
      "text/plain": [
       "          ID CO_CODE DIST_CODE SCH_CODE  TOTAL  MATHEMATICS  CRITICAL_READING  \\\n",
       "0  010110010      01      0110      010   1320          461               429   \n",
       "1  010120010      01      0120      010   1502          515               506   \n",
       "2  010590025      01      0590      025   1418          486               468   \n",
       "3  011310005      01      1310      005   1479          504               490   \n",
       "4  011790040      01      1790      040   1477          508               486   \n",
       "\n",
       "   WRITING  SAT_1550  \n",
       "0      430      23.5  \n",
       "1      481      41.7  \n",
       "2      464      31.1  \n",
       "3      485      37.8  \n",
       "4      483      35.7  "
      ]
     },
     "execution_count": 25,
     "metadata": {},
     "output_type": "execute_result"
    }
   ],
   "source": [
    "sat.head()"
   ]
  },
  {
   "cell_type": "code",
   "execution_count": 26,
   "metadata": {},
   "outputs": [],
   "source": [
    "value_cols = ['TOTAL', 'MATHEMATICS', 'CRITICAL_READING', 'WRITING', 'SAT_1550']\n",
    "sat_long = pd.melt(sat, id_vars=['ID'], value_vars=value_cols, var_name='DATA_TYPE', \n",
    "                   value_name='VALUE')"
   ]
  },
  {
   "cell_type": "markdown",
   "metadata": {},
   "source": [
    "## Solution"
   ]
  },
  {
   "cell_type": "code",
   "execution_count": 27,
   "metadata": {},
   "outputs": [
    {
     "data": {
      "text/html": [
       "<div>\n",
       "<style scoped>\n",
       "    .dataframe tbody tr th:only-of-type {\n",
       "        vertical-align: middle;\n",
       "    }\n",
       "\n",
       "    .dataframe tbody tr th {\n",
       "        vertical-align: top;\n",
       "    }\n",
       "\n",
       "    .dataframe thead th {\n",
       "        text-align: right;\n",
       "    }\n",
       "</style>\n",
       "<table border=\"1\" class=\"dataframe\">\n",
       "  <thead>\n",
       "    <tr style=\"text-align: right;\">\n",
       "      <th></th>\n",
       "      <th>ID</th>\n",
       "      <th>DATA_TYPE</th>\n",
       "      <th>VALUE</th>\n",
       "    </tr>\n",
       "  </thead>\n",
       "  <tbody>\n",
       "    <tr>\n",
       "      <th>0</th>\n",
       "      <td>010110010</td>\n",
       "      <td>TOTAL</td>\n",
       "      <td>1320.0</td>\n",
       "    </tr>\n",
       "    <tr>\n",
       "      <th>394</th>\n",
       "      <td>010110010</td>\n",
       "      <td>MATHEMATICS</td>\n",
       "      <td>461.0</td>\n",
       "    </tr>\n",
       "    <tr>\n",
       "      <th>1576</th>\n",
       "      <td>010110010</td>\n",
       "      <td>SAT_1550</td>\n",
       "      <td>23.5</td>\n",
       "    </tr>\n",
       "    <tr>\n",
       "      <th>788</th>\n",
       "      <td>010110010</td>\n",
       "      <td>CRITICAL_READING</td>\n",
       "      <td>429.0</td>\n",
       "    </tr>\n",
       "    <tr>\n",
       "      <th>1182</th>\n",
       "      <td>010110010</td>\n",
       "      <td>WRITING</td>\n",
       "      <td>430.0</td>\n",
       "    </tr>\n",
       "    <tr>\n",
       "      <th>1</th>\n",
       "      <td>010120010</td>\n",
       "      <td>TOTAL</td>\n",
       "      <td>1502.0</td>\n",
       "    </tr>\n",
       "    <tr>\n",
       "      <th>395</th>\n",
       "      <td>010120010</td>\n",
       "      <td>MATHEMATICS</td>\n",
       "      <td>515.0</td>\n",
       "    </tr>\n",
       "    <tr>\n",
       "      <th>1577</th>\n",
       "      <td>010120010</td>\n",
       "      <td>SAT_1550</td>\n",
       "      <td>41.7</td>\n",
       "    </tr>\n",
       "    <tr>\n",
       "      <th>1183</th>\n",
       "      <td>010120010</td>\n",
       "      <td>WRITING</td>\n",
       "      <td>481.0</td>\n",
       "    </tr>\n",
       "    <tr>\n",
       "      <th>789</th>\n",
       "      <td>010120010</td>\n",
       "      <td>CRITICAL_READING</td>\n",
       "      <td>506.0</td>\n",
       "    </tr>\n",
       "  </tbody>\n",
       "</table>\n",
       "</div>"
      ],
      "text/plain": [
       "             ID         DATA_TYPE   VALUE\n",
       "0     010110010             TOTAL  1320.0\n",
       "394   010110010       MATHEMATICS   461.0\n",
       "1576  010110010          SAT_1550    23.5\n",
       "788   010110010  CRITICAL_READING   429.0\n",
       "1182  010110010           WRITING   430.0\n",
       "1     010120010             TOTAL  1502.0\n",
       "395   010120010       MATHEMATICS   515.0\n",
       "1577  010120010          SAT_1550    41.7\n",
       "1183  010120010           WRITING   481.0\n",
       "789   010120010  CRITICAL_READING   506.0"
      ]
     },
     "execution_count": 27,
     "metadata": {},
     "output_type": "execute_result"
    }
   ],
   "source": [
    "sat_long = sat_long.sort_values('ID')\n",
    "sat_long.head(10)"
   ]
  },
  {
   "cell_type": "code",
   "execution_count": 28,
   "metadata": {},
   "outputs": [],
   "source": [
    "# Export to sheet for viewing\n",
    "\n",
    "writer = pd.ExcelWriter('long_data.xlsx')\n",
    "sat_long.to_excel(writer, 'SAT Data', index=False)\n",
    "writer.close()"
   ]
  },
  {
   "cell_type": "markdown",
   "metadata": {},
   "source": [
    "#### **[Full sheet may be viewed here](https://docs.google.com/spreadsheets/d/1tMw5OAlxle3JgkT7OLiWH41LMc1UYIg6ywNISGYkQrg/edit?usp=sharing)**\n",
    "\n",
    "https://docs.google.com/spreadsheets/d/1tMw5OAlxle3JgkT7OLiWH41LMc1UYIg6ywNISGYkQrg/edit?usp=sharing"
   ]
  },
  {
   "cell_type": "markdown",
   "metadata": {},
   "source": [
    "# Part 4: Data Visualization (Tableau preferred) and Communication"
   ]
  },
  {
   "cell_type": "markdown",
   "metadata": {},
   "source": [
    "At KBAS, we use a Teaching Excellence Rubric (TER) to coach our teachers. The rubric has\n",
    "five different domains, including Individualized Learning, Culture of Learning, Essential Content,\n",
    "Academic Ownership and Demonstration of Learning, each of which includes a unique set of\n",
    "indicators. 17-18 was our first year of using a platform called Whetstone to track teacher\n",
    "observations utilizing the TER. Explore our mock Quarter 3 Teacher Observation data, creating\n",
    "a visualization in Tableau of your findings. Please include your data visualization end product (if\n",
    "in Tableau, please also include a screenshot in case we have a different version), as well as a\n",
    "brief write-up addressed to our Chief Academic Officer about what you observe, noting any\n",
    "interesting things you’re seeing.\n",
    "\n",
    "Note that on the Data Team we are often asked to perform exploratory analysis with very robust,\n",
    "though sometimes limited data sets. And because many of our stakeholders are mostly\n",
    "non-technical folks, surfacing our insights for them in clear, concise, and compelling data\n",
    "visualizations works best.\n",
    "\n",
    "*(Data is on tabs labeled: ‘TER...’)*"
   ]
  },
  {
   "cell_type": "markdown",
   "metadata": {},
   "source": [
    "## Data"
   ]
  },
  {
   "cell_type": "code",
   "execution_count": 29,
   "metadata": {},
   "outputs": [
    {
     "data": {
      "text/html": [
       "<div>\n",
       "<style scoped>\n",
       "    .dataframe tbody tr th:only-of-type {\n",
       "        vertical-align: middle;\n",
       "    }\n",
       "\n",
       "    .dataframe tbody tr th {\n",
       "        vertical-align: top;\n",
       "    }\n",
       "\n",
       "    .dataframe thead th {\n",
       "        text-align: right;\n",
       "    }\n",
       "</style>\n",
       "<table border=\"1\" class=\"dataframe\">\n",
       "  <thead>\n",
       "    <tr style=\"text-align: right;\">\n",
       "      <th></th>\n",
       "      <th>Rubric Form</th>\n",
       "      <th>Metric Definitions</th>\n",
       "    </tr>\n",
       "  </thead>\n",
       "  <tbody>\n",
       "    <tr>\n",
       "      <th>0</th>\n",
       "      <td>KBAS TER by Domain</td>\n",
       "      <td>Scores are at the Domain Level (1,2,3,4,5)</td>\n",
       "    </tr>\n",
       "    <tr>\n",
       "      <th>1</th>\n",
       "      <td>KBAS TER by Indicator</td>\n",
       "      <td>Scores are at the Indicator Level (1.1, 1.2, 1...</td>\n",
       "    </tr>\n",
       "    <tr>\n",
       "      <th>2</th>\n",
       "      <td>KBAS Math Focused Teaching Excellence Rubric</td>\n",
       "      <td>Scores are for Math focus areas and can be at ...</td>\n",
       "    </tr>\n",
       "    <tr>\n",
       "      <th>3</th>\n",
       "      <td>KBAS ELA Focused Teaching Excellence Rubric</td>\n",
       "      <td>Scores are for ELA focus areas and can be at e...</td>\n",
       "    </tr>\n",
       "    <tr>\n",
       "      <th>4</th>\n",
       "      <td>NaN</td>\n",
       "      <td>NaN</td>\n",
       "    </tr>\n",
       "    <tr>\n",
       "      <th>5</th>\n",
       "      <td>*Scores ranges from 1-4</td>\n",
       "      <td>NaN</td>\n",
       "    </tr>\n",
       "  </tbody>\n",
       "</table>\n",
       "</div>"
      ],
      "text/plain": [
       "                                    Rubric Form  \\\n",
       "0                            KBAS TER by Domain   \n",
       "1                         KBAS TER by Indicator   \n",
       "2  KBAS Math Focused Teaching Excellence Rubric   \n",
       "3   KBAS ELA Focused Teaching Excellence Rubric   \n",
       "4                                           NaN   \n",
       "5                       *Scores ranges from 1-4   \n",
       "\n",
       "                                  Metric Definitions  \n",
       "0         Scores are at the Domain Level (1,2,3,4,5)  \n",
       "1  Scores are at the Indicator Level (1.1, 1.2, 1...  \n",
       "2  Scores are for Math focus areas and can be at ...  \n",
       "3  Scores are for ELA focus areas and can be at e...  \n",
       "4                                                NaN  \n",
       "5                                                NaN  "
      ]
     },
     "execution_count": 29,
     "metadata": {},
     "output_type": "execute_result"
    }
   ],
   "source": [
    "ter_dict"
   ]
  },
  {
   "cell_type": "code",
   "execution_count": 30,
   "metadata": {
    "scrolled": false
   },
   "outputs": [
    {
     "data": {
      "text/html": [
       "<div>\n",
       "<style scoped>\n",
       "    .dataframe tbody tr th:only-of-type {\n",
       "        vertical-align: middle;\n",
       "    }\n",
       "\n",
       "    .dataframe tbody tr th {\n",
       "        vertical-align: top;\n",
       "    }\n",
       "\n",
       "    .dataframe thead th {\n",
       "        text-align: right;\n",
       "    }\n",
       "</style>\n",
       "<table border=\"1\" class=\"dataframe\">\n",
       "  <thead>\n",
       "    <tr style=\"text-align: right;\">\n",
       "      <th></th>\n",
       "      <th>Observee</th>\n",
       "      <th>Observer</th>\n",
       "      <th>School</th>\n",
       "      <th>Grade</th>\n",
       "      <th>Class</th>\n",
       "      <th>Obs. Date</th>\n",
       "      <th>Form</th>\n",
       "      <th>Score</th>\n",
       "      <th>2. Culture of Learning: Are all students taking ownership over creating a purposeful, joyful and challenging learning environment?</th>\n",
       "      <th>1. Individualized Learning: Are all students receiving differentiated instruction based on their unique academic and social and emotional needs? Does instruction take individual student’s interests, motivations and identity into account?</th>\n",
       "      <th>...</th>\n",
       "      <th>3.1L - Daily lesson planning</th>\n",
       "      <th>4.1L - Students do the heavy lifting</th>\n",
       "      <th>3.5 - Intentional pacing</th>\n",
       "      <th>3.4 - Rigorous instructional materials</th>\n",
       "      <th>5.1L - Checks for understanding during the lesson</th>\n",
       "      <th>6.3- Professionalism</th>\n",
       "      <th>6.5 - Renew to get stronger</th>\n",
       "      <th>4.1 - Students do the heavy lifting</th>\n",
       "      <th>5.4m - Students on track to achieve learning goals</th>\n",
       "      <th>1.1L - Differentiated and individualized materials</th>\n",
       "    </tr>\n",
       "  </thead>\n",
       "  <tbody>\n",
       "    <tr>\n",
       "      <th>0</th>\n",
       "      <td>Teacher 01</td>\n",
       "      <td>Observer 02</td>\n",
       "      <td>KIPP Tunnel (Lower)</td>\n",
       "      <td>3rd grade</td>\n",
       "      <td>Math</td>\n",
       "      <td>2017-11-30 09:40 PST</td>\n",
       "      <td>KBAS Math Focused Teaching Excellence Rubric</td>\n",
       "      <td>2.91</td>\n",
       "      <td>-</td>\n",
       "      <td>-</td>\n",
       "      <td>...</td>\n",
       "      <td>-</td>\n",
       "      <td>-</td>\n",
       "      <td>-</td>\n",
       "      <td>-</td>\n",
       "      <td>-</td>\n",
       "      <td>-</td>\n",
       "      <td>-</td>\n",
       "      <td>-</td>\n",
       "      <td>3</td>\n",
       "      <td>-</td>\n",
       "    </tr>\n",
       "    <tr>\n",
       "      <th>1</th>\n",
       "      <td>Teacher 02</td>\n",
       "      <td>Observer 03</td>\n",
       "      <td>KIPP Tunnel (Lower)</td>\n",
       "      <td>4th grade</td>\n",
       "      <td>ELA</td>\n",
       "      <td>2017-11-30 08:54 PST</td>\n",
       "      <td>KBAS ELA Focused Teaching Excellence Rubric</td>\n",
       "      <td>2.00</td>\n",
       "      <td>-</td>\n",
       "      <td>-</td>\n",
       "      <td>...</td>\n",
       "      <td>2</td>\n",
       "      <td>-</td>\n",
       "      <td>-</td>\n",
       "      <td>-</td>\n",
       "      <td>-</td>\n",
       "      <td>-</td>\n",
       "      <td>-</td>\n",
       "      <td>-</td>\n",
       "      <td>-</td>\n",
       "      <td>-</td>\n",
       "    </tr>\n",
       "    <tr>\n",
       "      <th>2</th>\n",
       "      <td>Teacher 02</td>\n",
       "      <td>Observer 02</td>\n",
       "      <td>KIPP Tunnel (Lower)</td>\n",
       "      <td>4th grade</td>\n",
       "      <td>ELA</td>\n",
       "      <td>2017-11-30 10:52 PST</td>\n",
       "      <td>KBAS ELA Focused Teaching Excellence Rubric</td>\n",
       "      <td>2.50</td>\n",
       "      <td>-</td>\n",
       "      <td>-</td>\n",
       "      <td>...</td>\n",
       "      <td>3</td>\n",
       "      <td>3</td>\n",
       "      <td>-</td>\n",
       "      <td>-</td>\n",
       "      <td>2</td>\n",
       "      <td>-</td>\n",
       "      <td>-</td>\n",
       "      <td>-</td>\n",
       "      <td>-</td>\n",
       "      <td>2</td>\n",
       "    </tr>\n",
       "    <tr>\n",
       "      <th>3</th>\n",
       "      <td>Teacher 03</td>\n",
       "      <td>Observer 04</td>\n",
       "      <td>KIPP Ocean</td>\n",
       "      <td>5th grade</td>\n",
       "      <td>Math</td>\n",
       "      <td>2017-09-08 10:06 PDT</td>\n",
       "      <td>KBAS TER by Domain</td>\n",
       "      <td>2.33</td>\n",
       "      <td>2</td>\n",
       "      <td>2</td>\n",
       "      <td>...</td>\n",
       "      <td>-</td>\n",
       "      <td>-</td>\n",
       "      <td>-</td>\n",
       "      <td>-</td>\n",
       "      <td>-</td>\n",
       "      <td>-</td>\n",
       "      <td>-</td>\n",
       "      <td>-</td>\n",
       "      <td>-</td>\n",
       "      <td>-</td>\n",
       "    </tr>\n",
       "    <tr>\n",
       "      <th>4</th>\n",
       "      <td>Teacher 03</td>\n",
       "      <td>Observer 05</td>\n",
       "      <td>KIPP Ocean</td>\n",
       "      <td>5th grade</td>\n",
       "      <td>Math</td>\n",
       "      <td>2017-09-12 10:00 PDT</td>\n",
       "      <td>KBAS TER by Domain</td>\n",
       "      <td>2.33</td>\n",
       "      <td>3</td>\n",
       "      <td>2</td>\n",
       "      <td>...</td>\n",
       "      <td>-</td>\n",
       "      <td>-</td>\n",
       "      <td>-</td>\n",
       "      <td>-</td>\n",
       "      <td>-</td>\n",
       "      <td>-</td>\n",
       "      <td>-</td>\n",
       "      <td>-</td>\n",
       "      <td>-</td>\n",
       "      <td>-</td>\n",
       "    </tr>\n",
       "  </tbody>\n",
       "</table>\n",
       "<p>5 rows × 65 columns</p>\n",
       "</div>"
      ],
      "text/plain": [
       "     Observee     Observer               School      Grade Class  \\\n",
       "0  Teacher 01  Observer 02  KIPP Tunnel (Lower)  3rd grade  Math   \n",
       "1  Teacher 02  Observer 03  KIPP Tunnel (Lower)  4th grade   ELA   \n",
       "2  Teacher 02  Observer 02  KIPP Tunnel (Lower)  4th grade   ELA   \n",
       "3  Teacher 03  Observer 04           KIPP Ocean  5th grade  Math   \n",
       "4  Teacher 03  Observer 05           KIPP Ocean  5th grade  Math   \n",
       "\n",
       "              Obs. Date                                          Form  Score  \\\n",
       "0  2017-11-30 09:40 PST  KBAS Math Focused Teaching Excellence Rubric   2.91   \n",
       "1  2017-11-30 08:54 PST   KBAS ELA Focused Teaching Excellence Rubric   2.00   \n",
       "2  2017-11-30 10:52 PST   KBAS ELA Focused Teaching Excellence Rubric   2.50   \n",
       "3  2017-09-08 10:06 PDT                            KBAS TER by Domain   2.33   \n",
       "4  2017-09-12 10:00 PDT                            KBAS TER by Domain   2.33   \n",
       "\n",
       "  2. Culture of Learning: Are all students taking ownership over creating a purposeful, joyful and challenging learning environment?  \\\n",
       "0                                                  -                                                                                   \n",
       "1                                                  -                                                                                   \n",
       "2                                                  -                                                                                   \n",
       "3                                                  2                                                                                   \n",
       "4                                                  3                                                                                   \n",
       "\n",
       "  1. Individualized Learning: Are all students receiving differentiated instruction based on their unique academic and social and emotional needs? Does instruction take individual student’s interests, motivations and identity into account?  \\\n",
       "0                                                  -                                                                                                                                                                                              \n",
       "1                                                  -                                                                                                                                                                                              \n",
       "2                                                  -                                                                                                                                                                                              \n",
       "3                                                  2                                                                                                                                                                                              \n",
       "4                                                  2                                                                                                                                                                                              \n",
       "\n",
       "                         ...                          \\\n",
       "0                        ...                           \n",
       "1                        ...                           \n",
       "2                        ...                           \n",
       "3                        ...                           \n",
       "4                        ...                           \n",
       "\n",
       "  3.1L - Daily lesson planning 4.1L - Students do the heavy lifting  \\\n",
       "0                            -                                    -   \n",
       "1                            2                                    -   \n",
       "2                            3                                    3   \n",
       "3                            -                                    -   \n",
       "4                            -                                    -   \n",
       "\n",
       "  3.5 - Intentional pacing 3.4 - Rigorous instructional materials  \\\n",
       "0                        -                                      -   \n",
       "1                        -                                      -   \n",
       "2                        -                                      -   \n",
       "3                        -                                      -   \n",
       "4                        -                                      -   \n",
       "\n",
       "  5.1L - Checks for understanding during the lesson 6.3- Professionalism  \\\n",
       "0                                                 -                    -   \n",
       "1                                                 -                    -   \n",
       "2                                                 2                    -   \n",
       "3                                                 -                    -   \n",
       "4                                                 -                    -   \n",
       "\n",
       "  6.5 - Renew to get stronger 4.1 - Students do the heavy lifting  \\\n",
       "0                           -                                   -   \n",
       "1                           -                                   -   \n",
       "2                           -                                   -   \n",
       "3                           -                                   -   \n",
       "4                           -                                   -   \n",
       "\n",
       "  5.4m - Students on track to achieve learning goals  \\\n",
       "0                                                  3   \n",
       "1                                                  -   \n",
       "2                                                  -   \n",
       "3                                                  -   \n",
       "4                                                  -   \n",
       "\n",
       "  1.1L - Differentiated and individualized materials  \n",
       "0                                                  -  \n",
       "1                                                  -  \n",
       "2                                                  2  \n",
       "3                                                  -  \n",
       "4                                                  -  \n",
       "\n",
       "[5 rows x 65 columns]"
      ]
     },
     "execution_count": 30,
     "metadata": {},
     "output_type": "execute_result"
    }
   ],
   "source": [
    "ter.head()"
   ]
  },
  {
   "cell_type": "code",
   "execution_count": 31,
   "metadata": {},
   "outputs": [
    {
     "name": "stderr",
     "output_type": "stream",
     "text": [
      "C:\\Anaconda3\\lib\\site-packages\\dateutil\\parser\\_parser.py:1204: UnknownTimezoneWarning: tzname PST identified but not understood.  Pass `tzinfos` argument in order to correctly return a timezone-aware datetime.  In a future version, this will raise an exception.\n",
      "  category=UnknownTimezoneWarning)\n",
      "C:\\Anaconda3\\lib\\site-packages\\dateutil\\parser\\_parser.py:1204: UnknownTimezoneWarning: tzname PDT identified but not understood.  Pass `tzinfos` argument in order to correctly return a timezone-aware datetime.  In a future version, this will raise an exception.\n",
      "  category=UnknownTimezoneWarning)\n"
     ]
    }
   ],
   "source": [
    "# Replace - with proper NaN\n",
    "ter = ter.replace('-', np.nan)\n",
    "\n",
    "# Date to datetime\n",
    "ter['Obs. Date'] = pd.to_datetime(ter['Obs. Date'])"
   ]
  },
  {
   "cell_type": "markdown",
   "metadata": {},
   "source": [
    "## Exploratory analysis"
   ]
  },
  {
   "cell_type": "markdown",
   "metadata": {},
   "source": [
    "### Scores"
   ]
  },
  {
   "cell_type": "code",
   "execution_count": 35,
   "metadata": {
    "scrolled": false
   },
   "outputs": [
    {
     "data": {
      "text/plain": [
       "<matplotlib.axes._subplots.AxesSubplot at 0x16756293c88>"
      ]
     },
     "execution_count": 35,
     "metadata": {},
     "output_type": "execute_result"
    },
    {
     "data": {
      "image/png": "[encoded data removed]",
      "text/plain": [
       "<Figure size 432x288 with 1 Axes>"
      ]
     },
     "metadata": {},
     "output_type": "display_data"
    }
   ],
   "source": [
    "# Look at distribution of scores\n",
    "\n",
    "ter['Score'].hist()"
   ]
  },
  {
   "cell_type": "markdown",
   "metadata": {},
   "source": [
    "### Scores by class"
   ]
  },
  {
   "cell_type": "code",
   "execution_count": 92,
   "metadata": {},
   "outputs": [],
   "source": [
    "# Isolate only the question columns\n",
    "\n",
    "question_columns = [i for i in range(8, 65)]\n",
    "questions = ter.columns[question_columns]"
   ]
  },
  {
   "cell_type": "code",
   "execution_count": 93,
   "metadata": {
    "scrolled": false
   },
   "outputs": [],
   "source": [
    "# Group results by class type and transpose data\n",
    "\n",
    "subject_questions = ter.groupby('Class')[questions].mean().dropna(axis=1).transpose()"
   ]
  },
  {
   "cell_type": "code",
   "execution_count": 94,
   "metadata": {
    "scrolled": false
   },
   "outputs": [],
   "source": [
    "# Find questions with the biggest score difference between class types\n",
    "\n",
    "subject_questions['difference'] = abs(subject_questions['ELA'] - subject_questions['Math'])"
   ]
  },
  {
   "cell_type": "code",
   "execution_count": 95,
   "metadata": {},
   "outputs": [],
   "source": [
    "# Plot the 10 biggest difference questions\n",
    "\n",
    "subject_questions = subject_questions.sort_values('difference', ascending=False) \\\n",
    "                    .drop(columns='difference').iloc[:10]"
   ]
  },
  {
   "cell_type": "code",
   "execution_count": 99,
   "metadata": {},
   "outputs": [
    {
     "data": {
      "text/plain": [
       "<matplotlib.axes._subplots.AxesSubplot at 0x167575c5eb8>"
      ]
     },
     "execution_count": 99,
     "metadata": {},
     "output_type": "execute_result"
    },
    {
     "data": {
      "image/png": "[encoded data removed]",
      "text/plain": [
       "<Figure size 432x288 with 1 Axes>"
      ]
     },
     "metadata": {},
     "output_type": "display_data"
    }
   ],
   "source": [
    "subject_questions = subject_questions.rename({\n",
    "    subject_questions.index[3]: '6.2 - Responsiveness and follow through',\n",
    "    subject_questions.index[8]: '2.3 - Routines and systems'\n",
    "})\n",
    "subject_questions.plot.barh()"
   ]
  },
  {
   "cell_type": "markdown",
   "metadata": {},
   "source": [
    "### Correlation to overall score"
   ]
  },
  {
   "cell_type": "code",
   "execution_count": 57,
   "metadata": {
    "scrolled": false
   },
   "outputs": [],
   "source": [
    "# Find correlations between the total score and other columns\n",
    "\n",
    "score_corr = ter.corr()['Score'].drop('Score')"
   ]
  },
  {
   "cell_type": "code",
   "execution_count": 58,
   "metadata": {
    "scrolled": true
   },
   "outputs": [],
   "source": [
    "# Find questions with the highest and lowest correlation to overall score\n",
    "\n",
    "score_corr_plot = score_corr[(score_corr < 0.36) | (0.85 < score_corr)]"
   ]
  },
  {
   "cell_type": "code",
   "execution_count": 100,
   "metadata": {
    "scrolled": false
   },
   "outputs": [],
   "source": [
    "# Rename questions for better plotting\n",
    "score_corr_plot = score_corr_plot.rename({score_corr_plot.index[0]: \"1. Individualized Learning\",\n",
    "                                         score_corr_plot.index[7]: \"6.2 - Responsiveness and follow through\"})"
   ]
  },
  {
   "cell_type": "code",
   "execution_count": 101,
   "metadata": {},
   "outputs": [
    {
     "data": {
      "text/plain": [
       "<matplotlib.axes._subplots.AxesSubplot at 0x167576d44e0>"
      ]
     },
     "execution_count": 101,
     "metadata": {},
     "output_type": "execute_result"
    },
    {
     "data": {
      "image/png": "[encoded data removed]",
      "text/plain": [
       "<Figure size 432x288 with 1 Axes>"
      ]
     },
     "metadata": {},
     "output_type": "display_data"
    }
   ],
   "source": [
    "score_corr_plot.plot.barh()"
   ]
  },
  {
   "cell_type": "markdown",
   "metadata": {},
   "source": [
    "### Scores by school"
   ]
  },
  {
   "cell_type": "code",
   "execution_count": 45,
   "metadata": {
    "scrolled": false
   },
   "outputs": [
    {
     "data": {
      "text/plain": [
       "<matplotlib.axes._subplots.AxesSubplot at 0x1675464fe10>"
      ]
     },
     "execution_count": 45,
     "metadata": {},
     "output_type": "execute_result"
    },
    {
     "data": {
      "image/png": "[encoded data removed]",
      "text/plain": [
       "<Figure size 432x288 with 1 Axes>"
      ]
     },
     "metadata": {},
     "output_type": "display_data"
    }
   ],
   "source": [
    "# Find average score by school\n",
    "\n",
    "ter.groupby('School')['Score'].mean().plot.bar()"
   ]
  },
  {
   "cell_type": "markdown",
   "metadata": {},
   "source": [
    "## Solution"
   ]
  },
  {
   "cell_type": "markdown",
   "metadata": {},
   "source": [
    "#### **[Data visualization end product may be viewed here](https://colab.research.google.com/drive/1SryJ9H8ECL352WbHHdN7BJWwlOHB72rJ)**\n",
    "\n",
    "https://colab.research.google.com/drive/1SryJ9H8ECL352WbHHdN7BJWwlOHB72rJ"
   ]
  },
  {
   "cell_type": "markdown",
   "metadata": {},
   "source": [
    "### Score distribution\n",
    "The scores are not normally distributed, but this is likely due to the grading system itself—as teachers are often awarded integer scores.\n",
    "\n",
    "There is a difference in the average score of different schools. However, the review count for some schools—such as `Kipp Tunnel (Upper)`—is too low to make meaningful comparisons without more data.\n",
    "\n",
    "### Scores by class\n",
    "There is a noticeable difference in how observers score teachers of different classes (math or ELA). We find that ELA classes consistently receive higher scores.\n",
    "\n",
    "### Correlation to the overall score\n",
    "This chart plots the correlation of individual questions to the teacher’s overall score. Some questions, such as `5.4L – Students on track to achieve learning goals` are highly correlated to the overall teacher score. Other evaluation prompts, such as `1.2L – Differentiated teaching strategies` and `5.1 – Checks for understanding during the lesson` have very low correlations with the overall teacher score."
   ]
  },
  {
   "cell_type": "markdown",
   "metadata": {},
   "source": [
    "# Part 5: Project Management"
   ]
  },
  {
   "cell_type": "markdown",
   "metadata": {},
   "source": [
    "In the upcoming year, we would like to delve more deeply into our Whetstone classroom\n",
    "observation data with the goal of helping us understand how well our region is growing its\n",
    "teachers. Please put together a brief project plan showing how you would approach that project,\n",
    "outlining the key steps, potential stakeholders, responsibilities and timing. Use the visualization\n",
    "exercise in Part 4 to inform your project plan."
   ]
  },
  {
   "cell_type": "markdown",
   "metadata": {},
   "source": [
    "## Project plan"
   ]
  },
  {
   "cell_type": "markdown",
   "metadata": {},
   "source": [
    "The purpose of observation data is to provide a measurable metric that teachers and schools may improve upon. To understand how KIPP is growing its teachers, I would\n",
    "1. Evaluate the relevance of the Whetstone data\n",
    "2. Create groups with Whetstone score differences\n",
    "3. Reveal the cause for differences in scores\n",
    "\n",
    "Stakeholders for the project would be management, teachers, and KIPP students themselves. In a team of three people, one member would be in charge of cleaning the data—ensuring that we can match up teacher scores with their information and with the students they have taught. The remaining two would work on grouping the teacher-focused and student-focused data, respectively. The groupings that come out of these studies would be split among team members for the final step 3 analysis.\n",
    "\n",
    "The goal of the project would be to find out why certain teachers perform better on Whetstone evaluations. This knowledge would allow us to better support our teachers and to provide a better learning environment for our students. The project would result in data that highlights the strengths and weaknesses of the program and lead to actionable steps to improving KIPP’s effectiveness.\n",
    "\n",
    "### 1 – How relevant is the Whetstone data?\n",
    "#### 1–3 weeks\n",
    "Since the Whetstone data is the cornerstone of this project, it’s relevance will be evaluated. More data corresponding to student’s grades, standardized test scores, and other evaluations would be merged in. We would study the correlation between the Whetstone evaluation data and a student’s performance to understand how we should value the observation data.\n",
    "\n",
    "The `Scores by class` plot reveals that there is a scoring bias depending on the type of class observed. It’s worth exploring whether different classes/subjects should be evaluated differently. We might need to value different questions on the observation data more or less depending on the class. A simple model on the effects of each question to the overall score will be made to identify the key aspects that make an effective teacher.\n",
    "\n",
    "Likewise, the `Correlation to total score` plot reveals that some evaluation points are highly correlated to a teacher’s overall score, while some have a somewhat low correlation. A key result of this step is to identify what metrics we should value when measuring teacher performance. At the conclusion of this step, we should have a list of which metrics we deem most valuable, and will be using them to evaluate performance for the rest of the project.\n",
    "\n",
    "### 2 – Revealing differences in scores\n",
    "#### 1–1.5 weeks\n",
    "As the `Average score per school` plot reveals, some schools perform better on Whetstone evaluations. A similar analysis would reveal other groupings that result in an observation score gap. If there is enough data over a long enough period of time, I would also like to analyze if teachers’ scores are significantly changing over time. We would study the rate of change—seeing if specific schools or groups have a higher improvement rate.\n",
    "\n",
    "If teacher data is available—such as their salary, years teaching, years at KIPP, etc—it would be also merged in at this point to create groupings of teachers with different attributes. Likewise, student-focused data—such as their demographics, grades, scores, etc—would be merged in and similarly evaluated. This step would result in many groupings of different observation scores, which we can dive into in our final project step.\n",
    "\n",
    "\n",
    "### 3 – Finding the cause of these differences\n",
    "#### 2–4 weeks\n",
    "After we organize and group the data, we would delve into why certain groups are evaluated differently. For example, we would look at why  KIPP Lakes lags behind KIPP Heroic in observation scores. We would attempt to identify what high performing schools have in common in order to root out the cause of their score differences.\n",
    "\n",
    "Likewise, it is worth looking at individual data of high-performance teachers. We will study teachers with high observation scores and teachers who have improved their scores. We would look into what specific aspect they improved, and if it affected their colleagues and students. Data such as this can not only help us support current teachers, but identify positive traits for future hirings.\n",
    "\n",
    "Finding out the causes of different evaluation scores would allow us to understand how our teachers are growing and how we can best support them."
   ]
  }
 ],
 "metadata": {
  "kernelspec": {
   "display_name": "Python 3",
   "language": "python",
   "name": "python3"
  },
  "language_info": {
   "codemirror_mode": {
    "name": "ipython",
    "version": 3
   },
   "file_extension": ".py",
   "mimetype": "text/x-python",
   "name": "python",
   "nbconvert_exporter": "python",
   "pygments_lexer": "ipython3",
   "version": "3.6.6"
  },
  "toc": {
   "base_numbering": 1,
   "nav_menu": {},
   "number_sections": false,
   "sideBar": true,
   "skip_h1_title": false,
   "title_cell": "Table of Contents",
   "title_sidebar": "Contents",
   "toc_cell": false,
   "toc_position": {
    "height": "calc(100% - 180px)",
    "left": "10px",
    "top": "150px",
    "width": "255.594px"
   },
   "toc_section_display": true,
   "toc_window_display": false
  }
 },
 "nbformat": 4,
 "nbformat_minor": 2
}
